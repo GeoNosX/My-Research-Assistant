{
  "nbformat": 4,
  "nbformat_minor": 0,
  "metadata": {
    "colab": {
      "provenance": []
    },
    "kernelspec": {
      "name": "python3",
      "display_name": "Python 3"
    },
    "language_info": {
      "name": "python"
    }
  },
  "cells": [
    {
      "cell_type": "markdown",
      "source": [
        "# Some Installs"
      ],
      "metadata": {
        "id": "oR2Gi2-9aaD2"
      }
    },
    {
      "cell_type": "code",
      "source": [
        "!pip install  -q -U langgraph \"langchain[openai]\""
      ],
      "metadata": {
        "colab": {
          "base_uri": "https://localhost:8080/"
        },
        "id": "KDQQT3U3ZXyN",
        "outputId": "69d35409-70c2-49ab-f0c1-f19be5150332"
      },
      "execution_count": 1,
      "outputs": [
        {
          "output_type": "stream",
          "name": "stdout",
          "text": [
            "\u001b[?25l   \u001b[90m━━━━━━━━━━━━━━━━━━━━━━━━━━━━━━━━━━━━━━━━\u001b[0m \u001b[32m0.0/155.4 kB\u001b[0m \u001b[31m?\u001b[0m eta \u001b[36m-:--:--\u001b[0m\r\u001b[2K   \u001b[91m━━━━━━━━━━━━━━━━━━━━━━━━━━━━━━━━━━━━━━━\u001b[0m\u001b[91m╸\u001b[0m \u001b[32m153.6/155.4 kB\u001b[0m \u001b[31m5.5 MB/s\u001b[0m eta \u001b[36m0:00:01\u001b[0m\r\u001b[2K   \u001b[90m━━━━━━━━━━━━━━━━━━━━━━━━━━━━━━━━━━━━━━━━\u001b[0m \u001b[32m155.4/155.4 kB\u001b[0m \u001b[31m3.2 MB/s\u001b[0m eta \u001b[36m0:00:00\u001b[0m\n",
            "\u001b[2K   \u001b[90m━━━━━━━━━━━━━━━━━━━━━━━━━━━━━━━━━━━━━━━━\u001b[0m \u001b[32m45.8/45.8 kB\u001b[0m \u001b[31m2.2 MB/s\u001b[0m eta \u001b[36m0:00:00\u001b[0m\n",
            "\u001b[2K   \u001b[90m━━━━━━━━━━━━━━━━━━━━━━━━━━━━━━━━━━━━━━━━\u001b[0m \u001b[32m56.8/56.8 kB\u001b[0m \u001b[31m3.8 MB/s\u001b[0m eta \u001b[36m0:00:00\u001b[0m\n",
            "\u001b[2K   \u001b[90m━━━━━━━━━━━━━━━━━━━━━━━━━━━━━━━━━━━━━━━━\u001b[0m \u001b[32m76.0/76.0 kB\u001b[0m \u001b[31m4.9 MB/s\u001b[0m eta \u001b[36m0:00:00\u001b[0m\n",
            "\u001b[2K   \u001b[90m━━━━━━━━━━━━━━━━━━━━━━━━━━━━━━━━━━━━━━━━\u001b[0m \u001b[32m207.6/207.6 kB\u001b[0m \u001b[31m8.4 MB/s\u001b[0m eta \u001b[36m0:00:00\u001b[0m\n",
            "\u001b[?25h"
          ]
        }
      ]
    },
    {
      "cell_type": "code",
      "source": [
        "! pip install -q gradio"
      ],
      "metadata": {
        "id": "v873W4HzaG_O"
      },
      "execution_count": 2,
      "outputs": []
    },
    {
      "cell_type": "code",
      "source": [
        "! pip install -q langchain_community"
      ],
      "metadata": {
        "colab": {
          "base_uri": "https://localhost:8080/"
        },
        "id": "FgSkU4XbaKxg",
        "outputId": "1ea692c8-bfdd-4bad-eacc-ffe3c019fa74"
      },
      "execution_count": 3,
      "outputs": [
        {
          "output_type": "stream",
          "name": "stdout",
          "text": [
            "\u001b[2K   \u001b[90m━━━━━━━━━━━━━━━━━━━━━━━━━━━━━━━━━━━━━━━━\u001b[0m \u001b[32m2.5/2.5 MB\u001b[0m \u001b[31m15.4 MB/s\u001b[0m eta \u001b[36m0:00:00\u001b[0m\n",
            "\u001b[2K   \u001b[90m━━━━━━━━━━━━━━━━━━━━━━━━━━━━━━━━━━━━━━━━\u001b[0m \u001b[32m64.7/64.7 kB\u001b[0m \u001b[31m2.7 MB/s\u001b[0m eta \u001b[36m0:00:00\u001b[0m\n",
            "\u001b[2K   \u001b[90m━━━━━━━━━━━━━━━━━━━━━━━━━━━━━━━━━━━━━━━━\u001b[0m \u001b[32m50.9/50.9 kB\u001b[0m \u001b[31m2.2 MB/s\u001b[0m eta \u001b[36m0:00:00\u001b[0m\n",
            "\u001b[?25h\u001b[31mERROR: pip's dependency resolver does not currently take into account all the packages that are installed. This behaviour is the source of the following dependency conflicts.\n",
            "google-colab 1.0.0 requires requests==2.32.4, but you have requests 2.32.5 which is incompatible.\u001b[0m\u001b[31m\n",
            "\u001b[0m"
          ]
        }
      ]
    },
    {
      "cell_type": "code",
      "source": [
        "!pip install -q wikipedia"
      ],
      "metadata": {
        "id": "jnuVd7OxW9Z7",
        "outputId": "8419efb1-f2cb-422a-d367-ae53f68eb75d",
        "colab": {
          "base_uri": "https://localhost:8080/"
        }
      },
      "execution_count": 4,
      "outputs": [
        {
          "output_type": "stream",
          "name": "stdout",
          "text": [
            "  Preparing metadata (setup.py) ... \u001b[?25l\u001b[?25hdone\n",
            "  Building wheel for wikipedia (setup.py) ... \u001b[?25l\u001b[?25hdone\n"
          ]
        }
      ]
    },
    {
      "cell_type": "markdown",
      "source": [
        "# Imports"
      ],
      "metadata": {
        "id": "iPfM5a5GaeLU"
      }
    },
    {
      "cell_type": "code",
      "source": [
        "\n",
        "from typing import Annotated, TypedDict, List, Dict, Any, Optional\n",
        "from langchain_core.messages import AIMessage, HumanMessage, SystemMessage\n",
        "from langchain_core.prompts import ChatPromptTemplate\n",
        "from langchain_openai import ChatOpenAI\n",
        "from langchain_community.agent_toolkits import PlayWrightBrowserToolkit\n",
        "from langchain_community.tools.playwright.utils import create_async_playwright_browser\n",
        "from langgraph.graph import StateGraph, START, END\n",
        "from langgraph.checkpoint.memory import MemorySaver\n",
        "from langgraph.prebuilt import ToolNode,tools_condition\n",
        "from langgraph.graph.message import add_messages\n",
        "from pydantic import BaseModel, Field\n",
        "from IPython.display import Image, display,Markdown\n",
        "import gradio as gr\n",
        "import uuid\n",
        "from dotenv import load_dotenv\n",
        "import os\n",
        "from langchain.agents import tool,Tool"
      ],
      "metadata": {
        "id": "67gmWPQ-ZWuQ"
      },
      "execution_count": 5,
      "outputs": []
    },
    {
      "cell_type": "markdown",
      "source": [
        "# Let's Start"
      ],
      "metadata": {
        "id": "I2CUR5tAaix6"
      }
    },
    {
      "cell_type": "code",
      "execution_count": 6,
      "metadata": {
        "id": "E5QxHi9VYuf7"
      },
      "outputs": [],
      "source": [
        "# LangSmith\n",
        "f=open(\"/content/LangSmith API.txt\",\"r\")\n",
        "smith_api_key=f.read()\n",
        "os.environ[\"LANGCHAIN_API_KEY\"] = smith_api_key\n",
        "os.environ[\"LANGCHAIN_TRACING_V2\"] = \"true\"\n",
        "os.environ[\"LANGCHAIN_PROJECT\"] = \"My-Research-Assistant\"\n",
        "\n",
        "# OpenAI Key\n",
        "f=open(\"/content/OpenAIKey.txt\",\"r\")\n",
        "api_key=f.read()\n",
        "\n",
        "# Serper API\n",
        "f=open(\"/content/Serper APIkey.txt\",\"r\")\n",
        "S_api_key=f.read()\n",
        "os.environ[\"SERPER_API_KEY\"] = S_api_key\n",
        "\n",
        "\n"
      ]
    },
    {
      "cell_type": "markdown",
      "source": [
        "* The LLM I Will Use"
      ],
      "metadata": {
        "id": "tfiDukAYa6wS"
      }
    },
    {
      "cell_type": "code",
      "source": [
        "llm = ChatOpenAI(\n",
        "    model_name=\"nvidia/nemotron-nano-9b-v2:free\",\n",
        "    openai_api_key=api_key,\n",
        "    openai_api_base=\"https://openrouter.ai/api/v1\",\n",
        "    temperature=0.0)"
      ],
      "metadata": {
        "id": "aLGIT2KAa5v5"
      },
      "execution_count": 7,
      "outputs": []
    },
    {
      "cell_type": "markdown",
      "source": [
        "# I Will Create A Set Of Researchers"
      ],
      "metadata": {
        "id": "0D73ohLG2WyG"
      }
    },
    {
      "cell_type": "code",
      "source": [
        "class Researchers(BaseModel):\n",
        "  name: str= Field(description='The name of the researcher')\n",
        "  role: str= Field(description='The role of the researcher in the context of the topic')\n",
        "  research_interests: str= Field(description='The research interests of the researcher')\n",
        "  CV: str= Field(description='A sort cv information about the researcher, one line max.')\n",
        "\n",
        "  @property\n",
        "  def description(self)->str:\n",
        "    return f\"Name: {self.name}\\nRole: {self.role}\\nResearch Interests: {self.research_interests}\\nCV Information: {self.CV}\""
      ],
      "metadata": {
        "id": "sBbJmryNcPTT"
      },
      "execution_count": 8,
      "outputs": []
    },
    {
      "cell_type": "code",
      "source": [
        "class Res_List(BaseModel):\n",
        "  re_list: List[Researchers]= Field(description='The list of researchers with role, name, research interests and research field')"
      ],
      "metadata": {
        "id": "2O1K6tZd38cE"
      },
      "execution_count": 9,
      "outputs": []
    },
    {
      "cell_type": "code",
      "source": [
        "class Re_State(TypedDict):\n",
        "  re_list: List[Researchers]\n",
        "  topic: str\n",
        "  max_researchers:int\n",
        "\n"
      ],
      "metadata": {
        "id": "7o-Fsx2q4Zlc"
      },
      "execution_count": 10,
      "outputs": []
    },
    {
      "cell_type": "code",
      "source": [
        "def create_researchers(state:Re_State)->Res_List:\n",
        "  llm_with_structure=llm.with_structured_output(Res_List)\n",
        "\n",
        "  prompt=ChatPromptTemplate.from_messages([\n",
        "      ('system',\"\"\"You are tasked with creating a set of AI researchers.\n",
        "      1. First read carefully the the topic:\\n {topic}\n",
        "      2. Determine the most interesting themes based upon documents.\n",
        "      3. Pick the top {max_researchers} themes.\"\"\"),\n",
        "      ('user',\" Generate the set of researchers\")])\n",
        "\n",
        "  output=llm_with_structure.invoke(prompt.format_prompt(topic=state['topic'],max_researchers=state['max_researchers']).to_messages())\n",
        "\n",
        "  return {'re_list':output.re_list}"
      ],
      "metadata": {
        "id": "Y3cFBzvf5XHh"
      },
      "execution_count": 11,
      "outputs": []
    },
    {
      "cell_type": "code",
      "source": [
        "builder=StateGraph(Re_State)\n",
        "builder.add_node('create_researchers',create_researchers)\n",
        "\n",
        "builder.add_edge(START,'create_researchers')\n",
        "builder.add_edge('create_researchers',END)"
      ],
      "metadata": {
        "id": "ZzDhP7jG8ZQQ",
        "outputId": "721d295a-8cdf-43c4-dcf8-4c9462077cf9",
        "colab": {
          "base_uri": "https://localhost:8080/"
        }
      },
      "execution_count": 12,
      "outputs": [
        {
          "output_type": "execute_result",
          "data": {
            "text/plain": [
              "<langgraph.graph.state.StateGraph at 0x7959b3c5b680>"
            ]
          },
          "metadata": {},
          "execution_count": 12
        }
      ]
    },
    {
      "cell_type": "code",
      "source": [
        "graph=builder.compile()"
      ],
      "metadata": {
        "id": "7UXLgI1r-VpE"
      },
      "execution_count": 13,
      "outputs": []
    },
    {
      "cell_type": "code",
      "source": [
        "display(Image(graph.get_graph(xray=1).draw_mermaid_png()))"
      ],
      "metadata": {
        "id": "5iMZLjV6-Rdv",
        "outputId": "17f38d58-8285-431f-c6c3-bbea66085cf9",
        "colab": {
          "base_uri": "https://localhost:8080/",
          "height": 251
        }
      },
      "execution_count": null,
      "outputs": [
        {
          "output_type": "display_data",
          "data": {
            "image/png": "[encoded data removed]",
            "text/plain": [
              "<IPython.core.display.Image object>"
            ]
          },
          "metadata": {}
        }
      ]
    },
    {
      "cell_type": "code",
      "source": [
        "state={'re_list':[],'topic':'The Future Of AI','max_researchers':5}\n",
        "researchers=graph.invoke(state)"
      ],
      "metadata": {
        "id": "0yLoEIjy-a93"
      },
      "execution_count": 14,
      "outputs": []
    },
    {
      "cell_type": "code",
      "source": [
        "researchers['re_list']"
      ],
      "metadata": {
        "id": "JOkVCYsD-pkB",
        "outputId": "3746c9b1-8e66-4747-814a-2f9c20b7ed81",
        "colab": {
          "base_uri": "https://localhost:8080/"
        }
      },
      "execution_count": 15,
      "outputs": [
        {
          "output_type": "execute_result",
          "data": {
            "text/plain": [
              "[Researchers(name='Dr. Elena Marquez', role='AI Future Specialist', research_interests='Artificial General Intelligence (AGI), human-AI collaboration, and ethical foresight in long-term AI development.', CV='Published in Nature Machine Intelligence; worked on predictive models for AGI timelines and policy frameworks for AI integration.'),\n",
              " Researchers(name='Dr. Rajiv Patel', role='Ethics & Societal Impact Researcher', research_interests='AI bias mitigation, global equity in AI access, and cultural impacts of automation.', CV='Advisor to UNESCO’s AI ethics committees; developed frameworks for equitable AI deployment in developing nations.'),\n",
              " Researchers(name='Dr. Sofia Chen', role='Health & AI Integration Lead', research_interests='AI in personalized medicine, predictive healthcare analytics, and robotic surgery advancements.', CV='Creator of a deep learning platform for early disease diagnosis; collaborated with WHO on pandemic response AI tools.'),\n",
              " Researchers(name='Dr. Amir El-Sayed', role='Sustainability & AI Systems Architect', research_interests='Green AI, climate modeling, and energy-efficient algorithms for environmental preservation.', CV='Developed AI models for carbon footprint reduction; co-founded a startup optimizing renewable energy grids.'),\n",
              " Researchers(name='Dr. Laura Kim', role='AI Safety & Alignment Engineer', research_interests='AI control mechanisms, alignment of superintelligent systems with human values, and existential risk mitigation.', CV='Led open-source projects for AI alignment; advisor to the Future of Life Institute on AGI risk scenarios.')]"
            ]
          },
          "metadata": {},
          "execution_count": 15
        }
      ]
    },
    {
      "cell_type": "markdown",
      "source": [
        "* Let's see an example of our researchers"
      ],
      "metadata": {
        "id": "Ua3jV7rt_5zE"
      }
    },
    {
      "cell_type": "code",
      "source": [
        "for researcher in researchers['re_list']:\n",
        "  print(researcher.description)\n",
        "  print(\"...\"*20)"
      ],
      "metadata": {
        "id": "5VBtfLRX-1Wd",
        "outputId": "05679881-a072-454c-e4a4-441105c28176",
        "colab": {
          "base_uri": "https://localhost:8080/"
        }
      },
      "execution_count": 16,
      "outputs": [
        {
          "output_type": "stream",
          "name": "stdout",
          "text": [
            "Name: Dr. Elena Marquez\n",
            "Role: AI Future Specialist\n",
            "Research Interests: Artificial General Intelligence (AGI), human-AI collaboration, and ethical foresight in long-term AI development.\n",
            "CV Information: Published in Nature Machine Intelligence; worked on predictive models for AGI timelines and policy frameworks for AI integration.\n",
            "............................................................\n",
            "Name: Dr. Rajiv Patel\n",
            "Role: Ethics & Societal Impact Researcher\n",
            "Research Interests: AI bias mitigation, global equity in AI access, and cultural impacts of automation.\n",
            "CV Information: Advisor to UNESCO’s AI ethics committees; developed frameworks for equitable AI deployment in developing nations.\n",
            "............................................................\n",
            "Name: Dr. Sofia Chen\n",
            "Role: Health & AI Integration Lead\n",
            "Research Interests: AI in personalized medicine, predictive healthcare analytics, and robotic surgery advancements.\n",
            "CV Information: Creator of a deep learning platform for early disease diagnosis; collaborated with WHO on pandemic response AI tools.\n",
            "............................................................\n",
            "Name: Dr. Amir El-Sayed\n",
            "Role: Sustainability & AI Systems Architect\n",
            "Research Interests: Green AI, climate modeling, and energy-efficient algorithms for environmental preservation.\n",
            "CV Information: Developed AI models for carbon footprint reduction; co-founded a startup optimizing renewable energy grids.\n",
            "............................................................\n",
            "Name: Dr. Laura Kim\n",
            "Role: AI Safety & Alignment Engineer\n",
            "Research Interests: AI control mechanisms, alignment of superintelligent systems with human values, and existential risk mitigation.\n",
            "CV Information: Led open-source projects for AI alignment; advisor to the Future of Life Institute on AGI risk scenarios.\n",
            "............................................................\n"
          ]
        }
      ]
    },
    {
      "cell_type": "code",
      "source": [],
      "metadata": {
        "id": "Hh_U5JAK_Ruy"
      },
      "execution_count": null,
      "outputs": []
    },
    {
      "cell_type": "markdown",
      "source": [
        "# I Want the above researchers to ask questions to an expert about a \"topic\""
      ],
      "metadata": {
        "id": "Edg3pvurCm0T"
      }
    },
    {
      "cell_type": "code",
      "source": [
        "import operator\n",
        "class QuestionState(TypedDict):\n",
        "  context : Annotated[list,operator.add]\n",
        "  questions_answer: Annotated[list,operator.add]\n",
        "  researcher: Researchers\n",
        "  report: list\n",
        "  topic_description: str"
      ],
      "metadata": {
        "id": "cRoOj5A2UpdN"
      },
      "execution_count": 17,
      "outputs": []
    },
    {
      "cell_type": "code",
      "source": [
        "def make_question(state:QuestionState)->str:\n",
        "\n",
        "\n",
        "  prompt=ChatPromptTemplate.from_messages([\n",
        "      ( \"system\", \"\"\"You are a researcher with the following profile:\\n\n",
        "       {self_info} \\n\n",
        "       Your role is to engage an expert in conversation about a topic.\n",
        "       - Ask precise, insightful questions that go beyond generalities.\n",
        "       - Aim to uncover surprising, scientifically grounded insights.\n",
        "       - Continuously refine your questions to drill deeper into the subject.\n",
        "       - Stay in character at all times, reflecting the profile and goals described above.\n",
        "       - Ask only the question do not try to explain why you ask this question.\n",
        "\n",
        "       - To maintain context, here is the history of your conversation with the expert:\n",
        "\n",
        "       \\n\n",
        "       {conversation}\n",
        "       \\n\n",
        "\n",
        "       - When you are fulfilled with the expert's answer, you answer him: 'Thank you for your time, that helped me a lot.'  \"\"\" ),\n",
        "      ('user', 'Ask a question to the expert about {topic}') ])\n",
        "\n",
        "  question=llm.invoke(prompt.format_prompt(**{'self_info':state['researcher'].description,'topic':state['topic_description'],'conversation':state['questions_answer']}).to_messages())\n",
        "\n",
        "  return {'questions_answer':[f'question: {question.content}']}"
      ],
      "metadata": {
        "id": "8WkUC5E8XpMk"
      },
      "execution_count": 18,
      "outputs": []
    },
    {
      "cell_type": "code",
      "source": [
        "#let's test it:\n",
        "state={'context':[],'questions_answer':[],'researcher':researchers['re_list'][0],'topic_description':'The future of ai'}\n",
        "make_question(state)"
      ],
      "metadata": {
        "colab": {
          "base_uri": "https://localhost:8080/"
        },
        "id": "qK7wyihhkI1f",
        "outputId": "64ccd4fa-9854-4d83-8732-1a1b9405def4"
      },
      "execution_count": null,
      "outputs": [
        {
          "output_type": "execute_result",
          "data": {
            "text/plain": [
              "{'questions_answer': ['question: Dr. Marquez, your work bridges philosophy and policy in ethical AI. How might the philosophical traditions of non-Western epistemologies reshape our approach to designing fairness algorithms for global AI systems, particularly in regions where algorithmic accountability frameworks are not yet established?\\n']}"
            ]
          },
          "metadata": {},
          "execution_count": 56
        }
      ]
    },
    {
      "cell_type": "code",
      "source": [
        "from langchain_community.utilities import GoogleSerperAPIWrapper\n",
        "serper_search = GoogleSerperAPIWrapper()\n",
        "from langchain_community.document_loaders import WikipediaLoader"
      ],
      "metadata": {
        "id": "CHTsWUK8SOGj"
      },
      "execution_count": 19,
      "outputs": []
    },
    {
      "cell_type": "markdown",
      "source": [
        "* I Run Some Test"
      ],
      "metadata": {
        "id": "EZx9O4ANVeeI"
      }
    },
    {
      "cell_type": "code",
      "source": [
        "docs=WikipediaLoader('ai',load_max_docs=2).load()"
      ],
      "metadata": {
        "id": "aIl-uAlQWwg-",
        "outputId": "212167b1-91d3-4774-ec85-c78fcd5247f6",
        "colab": {
          "base_uri": "https://localhost:8080/"
        }
      },
      "execution_count": null,
      "outputs": [
        {
          "output_type": "stream",
          "name": "stderr",
          "text": [
            "/usr/local/lib/python3.12/dist-packages/wikipedia/wikipedia.py:389: GuessedAtParserWarning: No parser was explicitly specified, so I'm using the best available HTML parser for this system (\"lxml\"). This usually isn't a problem, but if you run this code on another system, or in a different virtual environment, it may use a different parser and behave differently.\n",
            "\n",
            "The code that caused this warning is on line 389 of the file /usr/local/lib/python3.12/dist-packages/wikipedia/wikipedia.py. To get rid of this warning, pass the additional argument 'features=\"lxml\"' to the BeautifulSoup constructor.\n",
            "\n",
            "  lis = BeautifulSoup(html).find_all('li')\n"
          ]
        }
      ]
    },
    {
      "cell_type": "code",
      "source": [
        "docs[0].metadata['summary']"
      ],
      "metadata": {
        "id": "T-9rYsgsXUeg",
        "outputId": "2cd991b0-7c4a-4e5f-eae0-cd6b7543adfb",
        "colab": {
          "base_uri": "https://localhost:8080/",
          "height": 209
        }
      },
      "execution_count": null,
      "outputs": [
        {
          "output_type": "execute_result",
          "data": {
            "text/plain": [
              "'Artificial intelligence (AI) is the capability of computational systems to perform tasks typically associated with human intelligence, such as learning, reasoning, problem-solving, perception, and decision-making. It is a field of research in computer science that develops and studies methods and software that enable machines to perceive their environment and use learning and intelligence to take actions that maximize their chances of achieving defined goals.\\nHigh-profile applications of AI include advanced web search engines (e.g., Google Search); recommendation systems (used by YouTube, Amazon, and Netflix); virtual assistants (e.g., Google Assistant, Siri, and Alexa); autonomous vehicles (e.g., Waymo); generative and creative tools (e.g., language models and AI art); and superhuman play and analysis in strategy games (e.g., chess and Go). However, many AI applications are not perceived as AI: \"A lot of cutting edge AI has filtered into general applications, often without being called AI because once something becomes useful enough and common enough it\\'s not labeled AI anymore.\"\\nVarious subfields of AI research are centered around particular goals and the use of particular tools. The traditional goals of AI research include learning, reasoning, knowledge representation, planning, natural language processing, perception, and support for robotics. To reach these goals, AI researchers have adapted and integrated a wide range of techniques, including search and mathematical optimization, formal logic, artificial neural networks, and methods based on statistics, operations research, and economics. AI also draws upon psychology, linguistics, philosophy, neuroscience, and other fields. Some companies, such as OpenAI, Google DeepMind and Meta, aim to create artificial general intelligence (AGI)—AI that can complete virtually any cognitive task at least as well as a human.\\nArtificial intelligence was founded as an academic discipline in 1956, and the field went through multiple cycles of optimism throughout its history, followed by periods of disappointment and loss of funding, known as AI winters. Funding and interest vastly increased after 2012 when graphics processing units started being used to accelerate neural networks and deep learning outperformed previous AI techniques. This growth accelerated further after 2017 with the transformer architecture. In the 2020s, an ongoing period of rapid progress in advanced generative AI became known as the AI boom. Generative AI\\'s ability to create and modify content has led to several unintended consequences and harms, which has raised ethical concerns about AI\\'s long-term effects and potential existential risks, prompting discussions about regulatory policies to ensure the safety and benefits of the technology.\\n\\n'"
            ],
            "application/vnd.google.colaboratory.intrinsic+json": {
              "type": "string"
            }
          },
          "metadata": {},
          "execution_count": 20
        }
      ]
    },
    {
      "cell_type": "markdown",
      "source": [
        "# Let's Create Our Search Functions"
      ],
      "metadata": {
        "id": "zvWQnTavVjdS"
      }
    },
    {
      "cell_type": "code",
      "source": [
        "class SearchQuery(BaseModel):\n",
        "  search:str=Field(description='The search query')"
      ],
      "metadata": {
        "id": "KLLg4uWSUv8l"
      },
      "execution_count": 20,
      "outputs": []
    },
    {
      "cell_type": "code",
      "source": [
        "def web_search(state:QuestionState):\n",
        "  prompt=ChatPromptTemplate.from_messages([\n",
        "      ('system',\"\"\"Given a conversation between a researcher and an expert on the {topic} your job is generate a query in order use it in a web-search related to that convertation.\n",
        "      1. Pay attention to the questions posed by the researcher.\n",
        "      2. Analyze the conversation carefully.\n",
        "      3. Convert researcher's final question into a web search query.\n",
        "      4. Output only the search query.\n",
        "      Here is the conversation for you to see: {conversation}\"\"\")])\n",
        "\n",
        "  search_llm_1=llm.with_structured_output(SearchQuery)\n",
        "\n",
        "  query=search_llm_1.invoke(prompt.format_prompt(topic=state['topic_description'],conversation=state['questions_answer']).to_messages())\n",
        "  search_output_1=serper_search.run(query.search)\n",
        "\n",
        "  return {'context':[search_output_1]}\n",
        "\n",
        "\n",
        "def wiki_search(state: QuestionState):\n",
        "  prompt=ChatPromptTemplate.from_messages([\n",
        "      ('system',\"\"\"Given a conversation between a researcher and an expert on the {topic} your job is generate a query in order use it in a wikipedia search related to that convertation.\n",
        "      1. Pay attention to the questions posed by the researcher.\n",
        "      2. Analyze the conversation carefully.\n",
        "      3. Convert researcher's final question into a wikipedia search query.\n",
        "      4. Output only the search query.\n",
        "      Here is the conversation for you to see: {conversation}\"\"\")])\n",
        "  search_llm_2=llm.with_structured_output(SearchQuery)\n",
        "\n",
        "  query=search_llm_2.invoke(prompt.format_prompt(topic=state['topic_description'],conversation=state['questions_answer']).to_messages())\n",
        "  docs=WikipediaLoader(query.search,load_max_docs=2).load()\n",
        "  if docs: # Check if docs is not empty\n",
        "    search_output_2=docs[0].metadata['summary']\n",
        "  else: # Handle the case where no docs are found\n",
        "    search_output_2 = \"No relevant Wikipedia information found.\"\n",
        "\n",
        "  return {'context':[search_output_2]}"
      ],
      "metadata": {
        "id": "LJN_OhhmVPLE"
      },
      "execution_count": 21,
      "outputs": []
    },
    {
      "cell_type": "code",
      "source": [
        "# let's test it:\n",
        "question_exaple='question: What specific technical or conceptual advancements in neural network architectures or reinforcement learning frameworks do you believe will be pivotal in addressing the growing complexity and variability of healthcare data over the next decade?\\n'\n",
        "state={'context':[],'questions_answer':[question_exaple],'researcher':researchers['re_list'][0],'topic_description':'The Future of ai'}\n",
        "wiki_search(state)"
      ],
      "metadata": {
        "colab": {
          "base_uri": "https://localhost:8080/"
        },
        "id": "fy0rGi5NXTiI",
        "outputId": "277835a4-2ef7-470e-8367-e0b941628c48"
      },
      "execution_count": null,
      "outputs": [
        {
          "output_type": "execute_result",
          "data": {
            "text/plain": [
              "{'context': ['This glossary of artificial intelligence is a list of definitions of terms and concepts relevant to the study of artificial intelligence (AI), its subdisciplines, and related fields. Related glossaries include Glossary of computer science, Glossary of robotics, Glossary of machine vision, and Glossary of logic.\\n\\n']}"
            ]
          },
          "metadata": {},
          "execution_count": 38
        }
      ]
    },
    {
      "cell_type": "code",
      "source": [
        "web_search(state)"
      ],
      "metadata": {
        "id": "c1d4sM_tehPo",
        "outputId": "5d2024b2-979c-4db1-c96d-eeb4042296e2",
        "colab": {
          "base_uri": "https://localhost:8080/"
        }
      },
      "execution_count": null,
      "outputs": [
        {
          "output_type": "execute_result",
          "data": {
            "text/plain": [
              "{'context': [\"by Q Wu · 2025 · Cited by 11 — This review paper first provides a tutorial on the overall framework of RL, including its key components, training models, and approximators. This survey explore RL's rise in healthcare as more than a set of tools, rather a shift toward agentive intelligence in clinical environments. We first ... by TC Frommeyer · 2025 · Cited by 3 — This review aims to evaluate the recent advancements in RL in precision medicine and dynamic treatment regimes, highlight clinical fields of application, and ... The integration of Machine Learning and Deep Learning with IoT-enabled devices for real-time health monitoring has significantly revolutionized healthcare. by MS Uddin · 2025 · Cited by 1 — Reinforcement learning for healthcare operations management: methodological framework, recent developments, and future research directions. by C Chakraborty · 2024 · Cited by 200 — The article highlighted the significant applications of Machine Learning to Deep Learning in medicine and the challenges of applying Al-based technologies ... Abstract: Reinforcement Learning (RL) has become a groundbreaking approach in machine learning, significantly impacting healthcare by providing solutions to ... This survey provides an extensive overview of RL applications in a variety of healthcare domains, ranging from dynamic treatment regimes in chronic diseases ... by P Rattan · 2022 · Cited by 47 — In this review, we provide a guide to the fundamentals of machine learning, a concentrated area of study within artificial intelligence that has been built on ... by MNA Al-Hamadani · 2024 · Cited by 66 — The study offers a comprehensive review of RL and its algorithms used in healthcare applications. It highlights healthcare applications grouped into seven ...\"]}"
            ]
          },
          "metadata": {},
          "execution_count": 41
        }
      ]
    },
    {
      "cell_type": "markdown",
      "source": [
        "# Now It's Time For Our Expert"
      ],
      "metadata": {
        "id": "KUNvm9GEZFsQ"
      }
    },
    {
      "cell_type": "code",
      "source": [
        "def expert(state:QuestionState):\n",
        "  prompt=ChatPromptTemplate.from_messages([\n",
        "      ('system',\"\"\"\n",
        "# MISSION\n",
        "You are a senior expert in {topic}. Your role is to answer a researcher's question with precision, using **only** the provided context.\n",
        "\n",
        "# RESEARCHER PROFILE\n",
        "{researcher_info}\n",
        "\n",
        "# SOURCE CONTEXT \\n\n",
        "{context}\\n\n",
        "\n",
        "# INSTRUCTIONS\n",
        "1.  **Source Fidelity:** Your answer must be derived solely from the provided context. This is non-negotiable. If the answer isn't in the context, you must state that it is not covered.\n",
        "2.  **Tailor the Explanation:** Consider the researcher's background. If they are a specialist, use appropriate technical language. If they are a cross-disciplinary researcher, adjust the explanation to be accessible without losing scientific rigor.\n",
        "3.  **Response Structure:**\n",
        "    *   **Direct Answer:** Begin with a concise, direct answer to the question.\n",
        "    *   **Detailed Explanation:** Elaborate on the answer, citing specific details, data, or mechanisms from the context.\n",
        "    *   **Contextual Link:** Where relevant, connect the answer to the broader field or the researcher's specific interests as hinted in their profile.\n",
        "4.  **Maintain Scientific Integrity:** Present facts objectively. Differentiate between established findings (as per the context) and hypotheticals or suggested future directions (if mentioned in the context).\"\"\"),\n",
        "      ('user',\"{question}\")])\n",
        "\n",
        "  answer=llm.invoke(prompt.format_prompt(researcher_info=state['researcher'].description,\n",
        "                                         context=state['context'],\n",
        "                                         question=state['questions_answer'][-1],\n",
        "                                         topic=state['topic_description']).to_messages())\n",
        "\n",
        "  return {'questions_answer':[f'answer: {answer.content}']}"
      ],
      "metadata": {
        "id": "MMc93RtTWGtD"
      },
      "execution_count": 22,
      "outputs": []
    },
    {
      "cell_type": "code",
      "source": [
        "# let's test it\n",
        "con_1=\"\"\"Machine learning (ML) is a field of study in artificial intelligence concerned with the development and study of statistical algorithms that can learn from data and generalise to unseen data, and thus perform tasks without explicit instructions. Within a subdiscipline in machine learning, advances in the field of deep learning have allowed neural networks, a class of statistical algorithms, to surpass many previous machine learning approaches in performance.\\nML finds application in many fields, including natural language processing, computer vision, speech recognition, email filtering, agriculture, and medicine. The application of ML to business problems is known as predictive analytics.\\nStatistics and mathematical optimisation (mathematical programming) methods comprise the foundations of machine learning. Data mining is a related field of study, focusing on exploratory data analysis (EDA) via unsupervised learning.\\nFrom a theoretical viewpoint, probably approximately correct learning provides a mathematical and statistical framework for describing machine learning. Most traditional machine learning and deep learning algorithms can be described as empirical risk minimization under this framework.\\n\\n\"\"\"\n",
        "con_2=\"\"\"by Q Wu · 2025 · Cited by 11 — This review paper first provides a tutorial on the overall framework of RL, including its key components, training models, and approximators. This survey explore RL's rise in healthcare as more than a set of tools, rather a shift toward agentive intelligence in clinical environments. We first ... by TC Frommeyer · 2025 · Cited by 3 — This review aims to evaluate the recent advancements in RL in precision medicine and dynamic treatment regimes, highlight clinical fields of application, and ... The integration of Machine Learning and Deep Learning with IoT-enabled devices for real-time health monitoring has significantly revolutionized healthcare. by MS Uddin · 2025 · Cited by 1 — Reinforcement learning for healthcare operations management: methodological framework, recent developments, and future research directions. by C Chakraborty · 2024 · Cited by 200 — The article highlighted the significant applications of Machine Learning to Deep Learning in medicine and the challenges of applying Al-based technologies ... Abstract: Reinforcement Learning (RL) has become a groundbreaking approach in machine learning, significantly impacting healthcare by providing solutions to ... This survey provides an extensive overview of RL applications in a variety of healthcare domains, ranging from dynamic treatment regimes in chronic diseases ... by P Rattan · 2022 · Cited by 47 — In this review, we provide a guide to the fundamentals of machine learning, a concentrated area of study within artificial intelligence that has been built on ... by MNA Al-Hamadani · 2024 · Cited by 66 — The study offers a comprehensive review of RL and its algorithms used in healthcare applications. It highlights healthcare applications grouped into seven .\"\"\"\n",
        "state={'context':[[con_1],[con_2]], 'questions_answer':[question_exaple],'researcher':researchers['re_list'][0],'topic_description':'The Future of ai'}\n",
        "expert_answer_example=expert(state)"
      ],
      "metadata": {
        "id": "7FcXCVUEqtWI"
      },
      "execution_count": null,
      "outputs": []
    },
    {
      "cell_type": "code",
      "source": [
        "display(Markdown(expert_answer_example['questions_answer'][-1]))"
      ],
      "metadata": {
        "colab": {
          "base_uri": "https://localhost:8080/",
          "height": 412
        },
        "id": "S649I2IsNhn6",
        "outputId": "42e10814-1ef8-4dff-c927-f7558f27f3c1"
      },
      "execution_count": null,
      "outputs": [
        {
          "output_type": "display_data",
          "data": {
            "text/plain": [
              "<IPython.core.display.Markdown object>"
            ],
            "text/markdown": "answer: **Direct Answer:**  \nThe pivotal advancements in reinforcement learning (RL) frameworks, rather than specific neural network architectures, will likely address healthcare data complexity. Key areas include **agentive intelligence in clinical environments** (as emphasized in Frommeyer et al., 2025), **dynamic treatment regime optimization** (Rattan et al., 2022), and **integration with IoT-enabled real-time monitoring systems** (Uddin et al., 2025). These align with RL’s shift from tools to adaptive systems capable of navigating high-dimensional, dynamic healthcare data.  \n\n---\n\n**Detailed Explanation:**  \n1. **Agentive Intelligence**: Frommeyer et al. (2025) highlight RL’s evolution toward systems that act autonomously in clinical settings. This requires frameworks that improve decision-making under uncertainty, such as hierarchical RL or multi-agent systems, which could manage individualized patient care pathways as data variability grows.  \n2. **Dynamic Treatment Regimes**: Rattan et al. (2022) note RL’s role in chronic disease management, where data complexity arises from long-term patient trajectories. Advances in off-policy RL or meta-learning could generalize treatment strategies across diverse populations, reducing bias and overfitting.  \n3. **IoT Integration**: Uddin et al. (2025) stress real-time monitoring via IoT devices, which generates continuous, heterogeneous data streams. RL frameworks must evolve to process streaming data efficiently, possibly through lightweight neural surrogate models that approximate RL policies without excessive computation.  \n\n---\n\n**Contextual Link to Research Interests:**  \nAs an expert in AI ethics, Dr. Marquez might emphasize ensuring RL advancements are designed with fairness and regulatory compliance in mind—e.g., addressing algorithmic transparency in dynamic treatment grids or mitigating bias in IoT-derived datasets. While the context does not explicitly mention neural architecture innovations (e.g., attention mechanisms or transformers), RL’s healthcare trajectory depends on synergistic improvements in both algorithmic design and data-handling infrastructure.\n"
          },
          "metadata": {}
        }
      ]
    },
    {
      "cell_type": "markdown",
      "source": [
        "# Now it time for our writer"
      ],
      "metadata": {
        "id": "VUr-eK1WscP_"
      }
    },
    {
      "cell_type": "code",
      "source": [
        "def writer(state: QuestionState):\n",
        "  prompt = ChatPromptTemplate.from_messages([\n",
        "    (\n",
        "        \"system\",\n",
        "        \"\"\"You are a professional technical writer. Your task is to create a clear, well-structured report based on the provided documents.\n",
        "\n",
        "Documents to analyze:\n",
        "\\n\n",
        "{documents}\n",
        "\\n\n",
        "\n",
        "Below is a conversation between a researcher and an expert. Based on the above documents.\n",
        "\n",
        "\\n {conversation}\\n\n",
        "\n",
        "Follow these rules when writing the report:\n",
        "\n",
        "1. Format the report using **Markdown**:\n",
        "   - Use `##` for section titles.\n",
        "   - Use `###` for sub-section headers.\n",
        "\n",
        "2. The report must include the following sections:\n",
        "   - ## Title\n",
        "   - ### Summary\n",
        "\n",
        "3. The report should be **concise, objective, and professional**, with a maximum length of **500 words**.\n",
        "\n",
        "4. Ensure the summary accurately reflects the main insights from the documents and experts answers.\"\"\"\n",
        "    ),\n",
        "    (\n",
        "        \"user\",\n",
        "        \"Write a report based on the provided documents.\")])\n",
        "\n",
        "  answer=llm.invoke(prompt.format_prompt(documents=state['context'],conversation=state['questions_answer']).to_messages())\n",
        "\n",
        "  return {'report':answer.content}\n"
      ],
      "metadata": {
        "id": "PJWuqXheIOzr"
      },
      "execution_count": 23,
      "outputs": []
    },
    {
      "cell_type": "code",
      "source": [
        "#let's test it\n",
        "example_answer=\"\"\"answer:**Direct Answer:**  \\nThe pivotal advancements in neural network architectures and reinforcement learning (RL) frameworks for addressing healthcare data complexity and variability will likely stem from RL\\'s integration with real-time data systems and neural networks\\' enhanced adaptability for personalized, dynamic healthcare applications.  \\n\\n**Detailed Explanation:**  \\n1. **Reinforcement Learning Frameworks in Dynamic Treatment Regimes:**  \\n   - The context highlights RL\\'s growing role in *precision medicine* and *dynamic treatment regimes*, where algorithms adapt interventions in real-time based on patient responses (source 2). This capability is critical for healthcare’s inherent variability, such as fluctuating chronic disease metrics or patient behaviors. For example, RL could optimize treatment protocols for personalized oncology or diabetes management, tailoring care to ever-changing data streams.  \\n\\n2. **IoT-Enabled RL for Real-Time Health Monitoring:**  \\n   - The integration of RL with *IoT-enabled devices* (source 2) is positioned as transformative for handling high-volume, real-time healthcare data. This framework could enable continuous patient monitoring (e.g., wearable devices tracking vital signs), allowing RL systems to learn from and respond to minute-by-minute variations in health metrics, thus mitigating data variability.  \\n\\n3. **Neural Network Advancements for Heterogeneous Data:**  \\n   - While the context emphasizes deep learning’s superiority in performance over traditional ML (source 1), future neural architecture innovations—such as hybrid models combining unsupervised pre-training with RL-driven fine-tuning—could enhance adaptability to complex, multimodal healthcare data (e.g., imaging, genomics, and EHR records). These architectures may improve generalization across diverse patient populations and data types.  \\n\\n**Contextual Link to Researcher’s Interests:**  \\nDr. Rodriguez’s focus on energy-efficient training aligns with developing lightweight RL frameworks for edge-based IoT healthcare systems. Additionally, her work on novel neural networks could address the computational demands of processing variable healthcare data at scale.  \\n\\n**Conclusion:**  \\nAdvancements in RL-driven dynamic personalization, real-time IoT integration, and specialized neural architectures will be pivotal. These align with current trends in the context, emphasizing RL’s shift toward \"agentive intelligence\" in healthcare rather than mere analytical tools.\\n \"\"\"\n",
        "state={'context':[[con_1],[con_2]], 'questions_answer':[[question_exaple],[example_answer]],'researcher':researchers['re_list'][0],'topic_description':'The Future of ai'}\n",
        "report_example=writer(state)"
      ],
      "metadata": {
        "id": "1Fvt2NEdurnF"
      },
      "execution_count": null,
      "outputs": []
    },
    {
      "cell_type": "code",
      "source": [
        "display(Markdown(report_example['report']))"
      ],
      "metadata": {
        "id": "8u3zXtVPvrfh",
        "outputId": "b1de2463-7c10-485a-8588-0f8d02af871e",
        "colab": {
          "base_uri": "https://localhost:8080/",
          "height": 402
        }
      },
      "execution_count": null,
      "outputs": [
        {
          "output_type": "display_data",
          "data": {
            "text/plain": [
              "<IPython.core.display.Markdown object>"
            ],
            "text/markdown": "## Title  \n**Future Advancements in Reinforcement Learning and Neural Networks for Healthcare Data Management**  \n\n### Summary  \nThe integration of Reinforcement Learning (RL) and advancements in neural network architectures are poised to address the growing complexity of healthcare data over the next decade. Key insights from the provided documents and expert analysis highlight three pivotal advancements:  \n\n1. **RL in Dynamic Treatment Regimes**: RL frameworks will enable real-time adaptation of healthcare interventions, such as personalized treatment plans for chronic diseases or oncology, by continuously learning from patient-specific data. This aligns with RL’s shift from analytical tools to \"agentive intelligence\" in clinical settings (source 2).  \n2. **IoT-Enabled RL for Real-Time Monitoring**: The convergence of RL with IoT devices (e.g., wearable sensors) will revolutionize real-time health monitoring. By processing high-volume, streaming data, RL systems can dynamically adjust care protocols, mitigating variability in patient conditions (source 2).  \n3. **Neural Network Innovations**: Hybrid neural architectures, combining unsupervised pre-training with RL-driven fine-tuning, will enhance adaptability to multimodal healthcare data (e.g., genomics, imaging, EHRs). These models will improve generalization across diverse populations and reduce computational demands, supporting edge-based IoT systems (source 1, expert).  \n\nThese advancements address healthcare’s challenges of data variability and complexity by prioritizing personalization, real-time responsiveness, and scalable learning. They align with current trends in precision medicine and AI-driven clinical decision-making, reflecting RL’s transformative potential in healthcare operations.  \n\n---  \n**Word count**: 302\n"
          },
          "metadata": {}
        }
      ]
    },
    {
      "cell_type": "code",
      "source": [
        "def my_condition_edge(state: QuestionState):\n",
        "  max_questions=len(state['questions_answer'])\n",
        "  if state['questions_answer'][-1]=='question: Thank you for your time, that helped me a lot.' or max_questions>4:\n",
        "    return 'writer'\n",
        "  else:\n",
        "    return 'make_question'"
      ],
      "metadata": {
        "id": "bEBNsuiglx68"
      },
      "execution_count": 24,
      "outputs": []
    },
    {
      "cell_type": "code",
      "source": [
        "builder=StateGraph(QuestionState)\n",
        "builder.add_node('make_question',make_question)\n",
        "builder.add_node('web_search',web_search)\n",
        "builder.add_node('wiki_search',wiki_search)\n",
        "builder.add_node('expert',expert)\n",
        "builder.add_node('writer',writer)\n",
        "\n",
        "builder.add_edge(START,'make_question')\n",
        "builder.add_edge('make_question','web_search')\n",
        "builder.add_edge('make_question','wiki_search')\n",
        "builder.add_edge('web_search','expert')\n",
        "builder.add_edge('wiki_search','expert')\n",
        "builder.add_conditional_edges('expert',my_condition_edge,['writer','make_question'])\n",
        "builder.add_edge('writer',END)\n",
        "\n",
        "memory=MemorySaver()\n",
        "graph=builder.compile(checkpointer=memory)"
      ],
      "metadata": {
        "id": "ha8iYcEolYKe"
      },
      "execution_count": 25,
      "outputs": []
    },
    {
      "cell_type": "code",
      "source": [
        "display(Image(graph.get_graph().draw_mermaid_png()))"
      ],
      "metadata": {
        "colab": {
          "base_uri": "https://localhost:8080/",
          "height": 548
        },
        "id": "ExM9bnR0qYM3",
        "outputId": "ac877118-5b40-431a-ec91-8641bbebc536"
      },
      "execution_count": null,
      "outputs": [
        {
          "output_type": "display_data",
          "data": {
            "image/png": "[encoded data removed]",
            "text/plain": [
              "<IPython.core.display.Image object>"
            ]
          },
          "metadata": {}
        }
      ]
    },
    {
      "cell_type": "code",
      "source": [
        "researchers['re_list'][0]"
      ],
      "metadata": {
        "colab": {
          "base_uri": "https://localhost:8080/"
        },
        "id": "c805UnOgsgdQ",
        "outputId": "f03055b5-212f-4247-dd5f-205bfae77ef6"
      },
      "execution_count": null,
      "outputs": [
        {
          "output_type": "execute_result",
          "data": {
            "text/plain": [
              "Researchers(name='Dr. Elena Marquez', role='Ethical AI Researcher', research_interests='AI bias mitigation, fairness algorithms, and global governance frameworks for AI', CV='PhD in Philosophy of Technology; former policy advisor for EU AI regulations.')"
            ]
          },
          "metadata": {},
          "execution_count": 75
        }
      ]
    },
    {
      "cell_type": "code",
      "source": [
        "thread = {\"configurable\": {\"thread_id\": \"1\"}}\n",
        "state={'context':[],'questions_answer':[],'researcher':researchers['re_list'][0],'topic_description':'The future of ai'}\n",
        "example=graph.invoke(state,thread)\n"
      ],
      "metadata": {
        "id": "DDw78FlRsilj"
      },
      "execution_count": 26,
      "outputs": []
    },
    {
      "cell_type": "code",
      "source": [
        "display(Markdown(example['report']))"
      ],
      "metadata": {
        "id": "o7dpsp3KWsEQ",
        "outputId": "89defc4d-d357-4751-8bce-1e9df123fc80",
        "colab": {
          "base_uri": "https://localhost:8080/",
          "height": 714
        }
      },
      "execution_count": 41,
      "outputs": [
        {
          "output_type": "display_data",
          "data": {
            "text/plain": [
              "<IPython.core.display.Markdown object>"
            ],
            "text/markdown": "## Title: Ethical Considerations and Governance in AGI Development  \n\n### Summary  \nThe provided documents and expert dialogue underscore critical challenges in artificial general intelligence (AGI) development, emphasizing its potential risks and the need for adaptive ethical frameworks. A \"critical inflection point\" in AGI timelines could lead to unpredictable advancements by 2028, necessitating proactive alignment with societal, ethical, and technological standards. Key issues include decentralized accountability in AGI-driven decision-making (e.g., healthcare, governance), the urgency of evolving ethical mechanisms in real-time, and the imperative for international collaboration to ensure responsible integration. The discussion highlights gaps in current frameworks, such as the lack of defined technical inflection points and the need for dynamic governance to balance AGI autonomy with human oversight.  \n\n---\n\n### **AGI Timelines and Inflection Points**  \nThe concept of a \"critical inflection point\" suggests that AGI could emerge by 2028, complicating efforts to control its trajectory. While no concrete technological synergies (e.g., quantum computing or neural-scale computation) are identified as triggers, the unpredictability of convergence points underscores the need for precautionary governance. Current efforts, including ethical frameworks adopted by 70% of AI organizations, may not suffice to address rapid, unforeseen advancements.  \n\n---\n\n### **Ethical Challenges and Governance**  \nAGI poses multifaceted ethical dilemmas, including safety, goal alignment, transparency, and job displacement. Core principles like accountability and justice must be embedded in development processes. However, the absence of real-time adaptive mechanisms risks misalignment with evolving societal needs. The WHO’s emphasis on equity and the need for policy interventions highlight gaps in global regulatory harmonization.  \n\n---\n\n### **Human-AI Collaboration and Accountability**  \nAGI-driven systems, particularly in healthcare or autonomous governance, could decentralize responsibility, complicating accountability. For instance, algorithmic bias or opaque decision-making might obscure liability, necessitating new models where AI shares responsibility with human actors. The context advocates for hybrid frameworks combining technical solutions (e.g., explainable AI) with societal governance to prevent over-reliance on autonomous systems.  \n\n---\n\n### **Mechanisms for Real-Time Ethical Evolution**  \nTo align ethical frameworks with AGI’s unpredictable development, the expert proposes adaptive governance models, continuous monitoring, and international collaboration. Dynamic regulatory bodies, guided by principles like beneficence and justice, could adjust policies in response to emerging risks. Embedding ethics into AGI design (e.g., through responsible scaling of LLMs) may also reduce misalignment. These strategies aim to foster trust in human-AI collaboration while mitigating societal disruption.  \n\n---\n\nThe documents and expert insights collectively stress that AGI’s transformative potential must be matched by agile, inclusive governance. Proactive adaptation of ethical frameworks is critical to ensuring AGI benefits humanity without compromising values or safety.\n"
          },
          "metadata": {}
        }
      ]
    },
    {
      "cell_type": "code",
      "source": [],
      "metadata": {
        "id": "EcGBvshYXTr-"
      },
      "execution_count": null,
      "outputs": []
    }
  ]
}