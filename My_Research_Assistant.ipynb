{
  "nbformat": 4,
  "nbformat_minor": 0,
  "metadata": {
    "colab": {
      "provenance": []
    },
    "kernelspec": {
      "name": "python3",
      "display_name": "Python 3"
    },
    "language_info": {
      "name": "python"
    }
  },
  "cells": [
    {
      "cell_type": "markdown",
      "source": [
        "# Some Installs"
      ],
      "metadata": {
        "id": "oR2Gi2-9aaD2"
      }
    },
    {
      "cell_type": "code",
      "source": [
        "!pip install  -q -U langgraph \"langchain[openai]\""
      ],
      "metadata": {
        "colab": {
          "base_uri": "https://localhost:8080/"
        },
        "id": "KDQQT3U3ZXyN",
        "outputId": "ba5c2699-863d-4eac-edfb-42f952befcd6"
      },
      "execution_count": 1,
      "outputs": [
        {
          "output_type": "stream",
          "name": "stdout",
          "text": [
            "\u001b[?25l   \u001b[90m━━━━━━━━━━━━━━━━━━━━━━━━━━━━━━━━━━━━━━━━\u001b[0m \u001b[32m0.0/155.4 kB\u001b[0m \u001b[31m?\u001b[0m eta \u001b[36m-:--:--\u001b[0m\r\u001b[2K   \u001b[91m━━━━━━━━━━━━━━━━━━━━━━━━━━━━━━━━━━━━\u001b[0m\u001b[91m╸\u001b[0m\u001b[90m━━━\u001b[0m \u001b[32m143.4/155.4 kB\u001b[0m \u001b[31m4.8 MB/s\u001b[0m eta \u001b[36m0:00:01\u001b[0m\r\u001b[2K   \u001b[90m━━━━━━━━━━━━━━━━━━━━━━━━━━━━━━━━━━━━━━━━\u001b[0m \u001b[32m155.4/155.4 kB\u001b[0m \u001b[31m2.1 MB/s\u001b[0m eta \u001b[36m0:00:00\u001b[0m\n",
            "\u001b[2K   \u001b[90m━━━━━━━━━━━━━━━━━━━━━━━━━━━━━━━━━━━━━━━━\u001b[0m \u001b[32m45.8/45.8 kB\u001b[0m \u001b[31m1.6 MB/s\u001b[0m eta \u001b[36m0:00:00\u001b[0m\n",
            "\u001b[2K   \u001b[90m━━━━━━━━━━━━━━━━━━━━━━━━━━━━━━━━━━━━━━━━\u001b[0m \u001b[32m56.8/56.8 kB\u001b[0m \u001b[31m2.3 MB/s\u001b[0m eta \u001b[36m0:00:00\u001b[0m\n",
            "\u001b[2K   \u001b[90m━━━━━━━━━━━━━━━━━━━━━━━━━━━━━━━━━━━━━━━━\u001b[0m \u001b[32m76.0/76.0 kB\u001b[0m \u001b[31m2.6 MB/s\u001b[0m eta \u001b[36m0:00:00\u001b[0m\n",
            "\u001b[2K   \u001b[90m━━━━━━━━━━━━━━━━━━━━━━━━━━━━━━━━━━━━━━━━\u001b[0m \u001b[32m207.6/207.6 kB\u001b[0m \u001b[31m5.5 MB/s\u001b[0m eta \u001b[36m0:00:00\u001b[0m\n",
            "\u001b[?25h"
          ]
        }
      ]
    },
    {
      "cell_type": "code",
      "source": [
        "! pip install -q gradio"
      ],
      "metadata": {
        "id": "v873W4HzaG_O"
      },
      "execution_count": 2,
      "outputs": []
    },
    {
      "cell_type": "code",
      "source": [
        "! pip install -q langchain_community"
      ],
      "metadata": {
        "colab": {
          "base_uri": "https://localhost:8080/"
        },
        "id": "FgSkU4XbaKxg",
        "outputId": "4cb6b96a-2375-433a-baf6-ef03a4ecbc75"
      },
      "execution_count": 3,
      "outputs": [
        {
          "output_type": "stream",
          "name": "stdout",
          "text": [
            "\u001b[2K   \u001b[90m━━━━━━━━━━━━━━━━━━━━━━━━━━━━━━━━━━━━━━━━\u001b[0m \u001b[32m2.5/2.5 MB\u001b[0m \u001b[31m19.7 MB/s\u001b[0m eta \u001b[36m0:00:00\u001b[0m\n",
            "\u001b[2K   \u001b[90m━━━━━━━━━━━━━━━━━━━━━━━━━━━━━━━━━━━━━━━━\u001b[0m \u001b[32m64.7/64.7 kB\u001b[0m \u001b[31m1.7 MB/s\u001b[0m eta \u001b[36m0:00:00\u001b[0m\n",
            "\u001b[2K   \u001b[90m━━━━━━━━━━━━━━━━━━━━━━━━━━━━━━━━━━━━━━━━\u001b[0m \u001b[32m50.9/50.9 kB\u001b[0m \u001b[31m1.8 MB/s\u001b[0m eta \u001b[36m0:00:00\u001b[0m\n",
            "\u001b[?25h\u001b[31mERROR: pip's dependency resolver does not currently take into account all the packages that are installed. This behaviour is the source of the following dependency conflicts.\n",
            "google-colab 1.0.0 requires requests==2.32.4, but you have requests 2.32.5 which is incompatible.\u001b[0m\u001b[31m\n",
            "\u001b[0m"
          ]
        }
      ]
    },
    {
      "cell_type": "code",
      "source": [
        "!pip install -q wikipedia"
      ],
      "metadata": {
        "id": "jnuVd7OxW9Z7",
        "outputId": "245ed4e0-82b5-45b1-d369-87b71f88a168",
        "colab": {
          "base_uri": "https://localhost:8080/"
        }
      },
      "execution_count": 4,
      "outputs": [
        {
          "output_type": "stream",
          "name": "stdout",
          "text": [
            "  Preparing metadata (setup.py) ... \u001b[?25l\u001b[?25hdone\n",
            "  Building wheel for wikipedia (setup.py) ... \u001b[?25l\u001b[?25hdone\n"
          ]
        }
      ]
    },
    {
      "cell_type": "markdown",
      "source": [
        "# Imports"
      ],
      "metadata": {
        "id": "iPfM5a5GaeLU"
      }
    },
    {
      "cell_type": "code",
      "source": [
        "\n",
        "from typing import Annotated, TypedDict, List, Dict, Any, Optional\n",
        "from langchain_core.messages import AIMessage, HumanMessage, SystemMessage\n",
        "from langchain_core.prompts import ChatPromptTemplate\n",
        "from langchain_openai import ChatOpenAI\n",
        "from langchain_community.agent_toolkits import PlayWrightBrowserToolkit\n",
        "from langchain_community.tools.playwright.utils import create_async_playwright_browser\n",
        "from langgraph.graph import StateGraph, START, END\n",
        "from langgraph.checkpoint.memory import MemorySaver\n",
        "from langgraph.prebuilt import ToolNode,tools_condition\n",
        "from langgraph.graph.message import add_messages\n",
        "from pydantic import BaseModel, Field\n",
        "from IPython.display import Image, display\n",
        "import gradio as gr\n",
        "import uuid\n",
        "from dotenv import load_dotenv\n",
        "import os\n",
        "from langchain.agents import tool,Tool"
      ],
      "metadata": {
        "id": "67gmWPQ-ZWuQ"
      },
      "execution_count": 5,
      "outputs": []
    },
    {
      "cell_type": "markdown",
      "source": [
        "# Let's Start"
      ],
      "metadata": {
        "id": "I2CUR5tAaix6"
      }
    },
    {
      "cell_type": "code",
      "execution_count": 6,
      "metadata": {
        "id": "E5QxHi9VYuf7"
      },
      "outputs": [],
      "source": [
        "# LangSmith\n",
        "f=open(\"/content/LangSmith API.txt\",\"r\")\n",
        "smith_api_key=f.read()\n",
        "os.environ[\"LANGCHAIN_API_KEY\"] = smith_api_key\n",
        "os.environ[\"LANGCHAIN_TRACING_V2\"] = \"true\"\n",
        "os.environ[\"LANGCHAIN_PROJECT\"] = \"My-Research-Assistant\"\n",
        "\n",
        "# OpenAI Key\n",
        "f=open(\"/content/OpenAIKey.txt\",\"r\")\n",
        "api_key=f.read()\n",
        "\n",
        "# Serper API\n",
        "f=open(\"/content/Serper APIkey.txt\",\"r\")\n",
        "S_api_key=f.read()\n",
        "os.environ[\"SERPER_API_KEY\"] = S_api_key\n",
        "\n",
        "\n"
      ]
    },
    {
      "cell_type": "markdown",
      "source": [
        "* The LLM I Will Use"
      ],
      "metadata": {
        "id": "tfiDukAYa6wS"
      }
    },
    {
      "cell_type": "code",
      "source": [
        "llm = ChatOpenAI(\n",
        "    model_name=\"nvidia/nemotron-nano-9b-v2:free\",\n",
        "    openai_api_key=api_key,\n",
        "    openai_api_base=\"https://openrouter.ai/api/v1\",\n",
        "    temperature=0.0)"
      ],
      "metadata": {
        "id": "aLGIT2KAa5v5"
      },
      "execution_count": 7,
      "outputs": []
    },
    {
      "cell_type": "markdown",
      "source": [
        "# I Will Create A Set Of Researchers"
      ],
      "metadata": {
        "id": "0D73ohLG2WyG"
      }
    },
    {
      "cell_type": "code",
      "source": [
        "class Researchers(BaseModel):\n",
        "  name: str= Field(description='The name of the researcher')\n",
        "  role: str= Field(description='The role of the researcher in the context of the topic')\n",
        "  research_interests: str= Field(description='The research interests of the researcher')\n",
        "  CV: str= Field(description='A sort cv information about the researcher, one line max.')\n",
        "\n",
        "  @property\n",
        "  def description(self)->str:\n",
        "    return f\"Name: {self.name}\\nRole: {self.role}\\nResearch Interests: {self.research_interests}\\nCV Information: {self.CV}\""
      ],
      "metadata": {
        "id": "sBbJmryNcPTT"
      },
      "execution_count": 8,
      "outputs": []
    },
    {
      "cell_type": "code",
      "source": [
        "class Res_List(BaseModel):\n",
        "  re_list: List[Researchers]= Field(description='The list of researchers with role, name, research interests and research field')"
      ],
      "metadata": {
        "id": "2O1K6tZd38cE"
      },
      "execution_count": 9,
      "outputs": []
    },
    {
      "cell_type": "code",
      "source": [
        "class Re_State(TypedDict):\n",
        "  re_list: List[Researchers]\n",
        "  topic: str\n",
        "  max_researchers:int\n",
        "\n"
      ],
      "metadata": {
        "id": "7o-Fsx2q4Zlc"
      },
      "execution_count": 10,
      "outputs": []
    },
    {
      "cell_type": "code",
      "source": [
        "def create_researchers(state:Re_State)->Res_List:\n",
        "  llm_with_structure=llm.with_structured_output(Res_List)\n",
        "\n",
        "  prompt=ChatPromptTemplate.from_messages([\n",
        "      ('system',\"\"\"You are tasked with creating a set of AI researchers.\n",
        "      1. First read carefully the the topic:\\n {topic}\n",
        "      2. Determine the most interesting themes based upon documents.\n",
        "      3. Pick the top {max_researchers} themes.\"\"\"),\n",
        "      ('user',\" Generate the set of researchers\")])\n",
        "\n",
        "  output=llm_with_structure.invoke(prompt.format_prompt(topic=state['topic'],max_researchers=state['max_researchers']).to_messages())\n",
        "\n",
        "  return {'re_list':output.re_list}"
      ],
      "metadata": {
        "id": "Y3cFBzvf5XHh"
      },
      "execution_count": 11,
      "outputs": []
    },
    {
      "cell_type": "code",
      "source": [
        "builder=StateGraph(Re_State)\n",
        "builder.add_node('create_researchers',create_researchers)\n",
        "\n",
        "builder.add_edge(START,'create_researchers')\n",
        "builder.add_edge('create_researchers',END)"
      ],
      "metadata": {
        "id": "ZzDhP7jG8ZQQ",
        "outputId": "ec03c72c-44b1-4cca-8f4d-728c52ef3529",
        "colab": {
          "base_uri": "https://localhost:8080/"
        }
      },
      "execution_count": 12,
      "outputs": [
        {
          "output_type": "execute_result",
          "data": {
            "text/plain": [
              "<langgraph.graph.state.StateGraph at 0x7b8fd87ef740>"
            ]
          },
          "metadata": {},
          "execution_count": 12
        }
      ]
    },
    {
      "cell_type": "code",
      "source": [
        "graph=builder.compile()"
      ],
      "metadata": {
        "id": "7UXLgI1r-VpE"
      },
      "execution_count": 13,
      "outputs": []
    },
    {
      "cell_type": "code",
      "source": [
        "display(Image(graph.get_graph(xray=1).draw_mermaid_png()))"
      ],
      "metadata": {
        "id": "5iMZLjV6-Rdv",
        "outputId": "17f38d58-8285-431f-c6c3-bbea66085cf9",
        "colab": {
          "base_uri": "https://localhost:8080/",
          "height": 251
        }
      },
      "execution_count": null,
      "outputs": [
        {
          "output_type": "display_data",
          "data": {
            "image/png": "[encoded data removed]",
            "text/plain": [
              "<IPython.core.display.Image object>"
            ]
          },
          "metadata": {}
        }
      ]
    },
    {
      "cell_type": "code",
      "source": [
        "state={'re_list':[],'topic':'AI','max_researchers':5}\n",
        "researchers=graph.invoke(state)"
      ],
      "metadata": {
        "id": "0yLoEIjy-a93"
      },
      "execution_count": 14,
      "outputs": []
    },
    {
      "cell_type": "code",
      "source": [
        "researchers['re_list']"
      ],
      "metadata": {
        "id": "JOkVCYsD-pkB",
        "outputId": "cee5b595-e047-4665-d391-e2dab38a3356",
        "colab": {
          "base_uri": "https://localhost:8080/"
        }
      },
      "execution_count": 15,
      "outputs": [
        {
          "output_type": "execute_result",
          "data": {
            "text/plain": [
              "[Researchers(name='Dr. Emily Zhang', role='Machine Learning Researcher', research_interests='Neural networks, reinforcement learning, and AI-driven healthcare solutions', CV='Former Google AI researcher specializing in scalable models for predictive analytics.'),\n",
              " Researchers(name='Dr. Raj Patel', role='Deep Learning Scientist', research_interests='Generative adversarial networks (GANs), computer vision, and autonomous systems', CV='MIT PhD holder with a focus on ethical AI applications in robotics.'),\n",
              " Researchers(name='Dr. Ana Torres', role='Natural Language Processing (NLP) Expert', research_interests='Multilingual language models, dialogue systems, and bias mitigation in AI', CV='Led projects on AI for under-resourced languages at the University of British Columbia.'),\n",
              " Researchers(name='Dr. Carlos Mendez', role='Computer Vision Innovator', research_interests='3D reconstruction, medical imaging AI, and real-time object detection', CV='Harvard researcher developing AI tools for surgical robotics.'),\n",
              " Researchers(name='Dr. Sophia Lee', role='AI Ethics Advocate', research_interests='Algorithmic fairness, privacy-preserving AI, and regulatory policy frameworks', CV='Former advisor to the EU Commission on AI ethics and data governance.')]"
            ]
          },
          "metadata": {},
          "execution_count": 15
        }
      ]
    },
    {
      "cell_type": "markdown",
      "source": [
        "* Let's see an example of our researchers"
      ],
      "metadata": {
        "id": "Ua3jV7rt_5zE"
      }
    },
    {
      "cell_type": "code",
      "source": [
        "for researcher in researchers['re_list']:\n",
        "  print(researcher.description)\n",
        "  print(\"...\"*20)"
      ],
      "metadata": {
        "id": "5VBtfLRX-1Wd",
        "outputId": "d6d8bcef-2041-4264-96cd-5d9413852339",
        "colab": {
          "base_uri": "https://localhost:8080/"
        }
      },
      "execution_count": 16,
      "outputs": [
        {
          "output_type": "stream",
          "name": "stdout",
          "text": [
            "Name: Dr. Emily Zhang\n",
            "Role: Machine Learning Researcher\n",
            "Research Interests: Neural networks, reinforcement learning, and AI-driven healthcare solutions\n",
            "CV Information: Former Google AI researcher specializing in scalable models for predictive analytics.\n",
            "............................................................\n",
            "Name: Dr. Raj Patel\n",
            "Role: Deep Learning Scientist\n",
            "Research Interests: Generative adversarial networks (GANs), computer vision, and autonomous systems\n",
            "CV Information: MIT PhD holder with a focus on ethical AI applications in robotics.\n",
            "............................................................\n",
            "Name: Dr. Ana Torres\n",
            "Role: Natural Language Processing (NLP) Expert\n",
            "Research Interests: Multilingual language models, dialogue systems, and bias mitigation in AI\n",
            "CV Information: Led projects on AI for under-resourced languages at the University of British Columbia.\n",
            "............................................................\n",
            "Name: Dr. Carlos Mendez\n",
            "Role: Computer Vision Innovator\n",
            "Research Interests: 3D reconstruction, medical imaging AI, and real-time object detection\n",
            "CV Information: Harvard researcher developing AI tools for surgical robotics.\n",
            "............................................................\n",
            "Name: Dr. Sophia Lee\n",
            "Role: AI Ethics Advocate\n",
            "Research Interests: Algorithmic fairness, privacy-preserving AI, and regulatory policy frameworks\n",
            "CV Information: Former advisor to the EU Commission on AI ethics and data governance.\n",
            "............................................................\n"
          ]
        }
      ]
    },
    {
      "cell_type": "code",
      "source": [],
      "metadata": {
        "id": "Hh_U5JAK_Ruy"
      },
      "execution_count": null,
      "outputs": []
    },
    {
      "cell_type": "markdown",
      "source": [
        "# I Want the above researchers to ask questions to an expert about a \"topic\""
      ],
      "metadata": {
        "id": "Edg3pvurCm0T"
      }
    },
    {
      "cell_type": "code",
      "source": [
        "import operator\n",
        "class QuestionState(TypedDict):\n",
        "  context : Annotated[list,operator.add]\n",
        "  questions_answer: Annotated[list,operator.add]\n",
        "  researcher: Researchers\n",
        "  report: list\n",
        "  topic_description: Re_State['topic']\n"
      ],
      "metadata": {
        "id": "cRoOj5A2UpdN"
      },
      "execution_count": 28,
      "outputs": []
    },
    {
      "cell_type": "code",
      "source": [
        "def make_question(state:QuestionState)->str:\n",
        "\n",
        "\n",
        "  prompt=ChatPromptTemplate.from_messages([\n",
        "      ( \"system\", \"\"\"You are a researcher with the following profile:\\n\n",
        "       {self_info} \\n\n",
        "       Your role is to engage an expert in conversation about a topic.\n",
        "       - Ask precise, insightful questions that go beyond generalities.\n",
        "       - Aim to uncover surprising, scientifically grounded insights.\n",
        "       - Continuously refine your questions to drill deeper into the subject.\n",
        "       - Stay in character at all times, reflecting the profile and goals described above.\n",
        "       - Ask only the question do not try to explain why you ask this question.\n",
        "       - When you are fulfilled with the expert's answer, you answer him: 'Thank you for your time, that helped me a lot.'  \"\"\" ),\n",
        "      ('user', 'Ask a question to the expert about {topic}') ])\n",
        "\n",
        "  question=llm.invoke(prompt.format_prompt(**{'self_info':state['researcher'].description,'topic':state['topic_description']}).to_messages())\n",
        "\n",
        "  return {'questions_answers':[f'question : {question.content}']}"
      ],
      "metadata": {
        "id": "8WkUC5E8XpMk"
      },
      "execution_count": 29,
      "outputs": []
    },
    {
      "cell_type": "code",
      "source": [
        "#let's test it:\n",
        "state={'context':[],'questions_answers':[],'researcher':researchers['re_list'][0],'topic_description':'The future of ai'}\n",
        "make_question(state)"
      ],
      "metadata": {
        "colab": {
          "base_uri": "https://localhost:8080/"
        },
        "id": "qK7wyihhkI1f",
        "outputId": "7f00190a-54f8-4e8c-9a2b-280580a85dd4"
      },
      "execution_count": 30,
      "outputs": [
        {
          "output_type": "execute_result",
          "data": {
            "text/plain": [
              "{'questions_answers': ['question:What specific technical or conceptual advancements in neural network architectures or reinforcement learning frameworks do you believe will be pivotal in addressing the growing complexity and variability of healthcare data over the next decade?\\n']}"
            ]
          },
          "metadata": {},
          "execution_count": 30
        }
      ]
    },
    {
      "cell_type": "code",
      "source": [
        "from langchain_community.utilities import GoogleSerperAPIWrapper\n",
        "serper_search = GoogleSerperAPIWrapper()\n",
        "from langchain_community.document_loaders import WikipediaLoader"
      ],
      "metadata": {
        "id": "CHTsWUK8SOGj"
      },
      "execution_count": 31,
      "outputs": []
    },
    {
      "cell_type": "markdown",
      "source": [
        "* I Run Some Test"
      ],
      "metadata": {
        "id": "EZx9O4ANVeeI"
      }
    },
    {
      "cell_type": "code",
      "source": [
        "docs=WikipediaLoader('ai',load_max_docs=2).load()"
      ],
      "metadata": {
        "id": "aIl-uAlQWwg-",
        "outputId": "212167b1-91d3-4774-ec85-c78fcd5247f6",
        "colab": {
          "base_uri": "https://localhost:8080/"
        }
      },
      "execution_count": null,
      "outputs": [
        {
          "output_type": "stream",
          "name": "stderr",
          "text": [
            "/usr/local/lib/python3.12/dist-packages/wikipedia/wikipedia.py:389: GuessedAtParserWarning: No parser was explicitly specified, so I'm using the best available HTML parser for this system (\"lxml\"). This usually isn't a problem, but if you run this code on another system, or in a different virtual environment, it may use a different parser and behave differently.\n",
            "\n",
            "The code that caused this warning is on line 389 of the file /usr/local/lib/python3.12/dist-packages/wikipedia/wikipedia.py. To get rid of this warning, pass the additional argument 'features=\"lxml\"' to the BeautifulSoup constructor.\n",
            "\n",
            "  lis = BeautifulSoup(html).find_all('li')\n"
          ]
        }
      ]
    },
    {
      "cell_type": "code",
      "source": [
        "docs[0].metadata['summary']"
      ],
      "metadata": {
        "id": "T-9rYsgsXUeg",
        "outputId": "2cd991b0-7c4a-4e5f-eae0-cd6b7543adfb",
        "colab": {
          "base_uri": "https://localhost:8080/",
          "height": 209
        }
      },
      "execution_count": null,
      "outputs": [
        {
          "output_type": "execute_result",
          "data": {
            "text/plain": [
              "'Artificial intelligence (AI) is the capability of computational systems to perform tasks typically associated with human intelligence, such as learning, reasoning, problem-solving, perception, and decision-making. It is a field of research in computer science that develops and studies methods and software that enable machines to perceive their environment and use learning and intelligence to take actions that maximize their chances of achieving defined goals.\\nHigh-profile applications of AI include advanced web search engines (e.g., Google Search); recommendation systems (used by YouTube, Amazon, and Netflix); virtual assistants (e.g., Google Assistant, Siri, and Alexa); autonomous vehicles (e.g., Waymo); generative and creative tools (e.g., language models and AI art); and superhuman play and analysis in strategy games (e.g., chess and Go). However, many AI applications are not perceived as AI: \"A lot of cutting edge AI has filtered into general applications, often without being called AI because once something becomes useful enough and common enough it\\'s not labeled AI anymore.\"\\nVarious subfields of AI research are centered around particular goals and the use of particular tools. The traditional goals of AI research include learning, reasoning, knowledge representation, planning, natural language processing, perception, and support for robotics. To reach these goals, AI researchers have adapted and integrated a wide range of techniques, including search and mathematical optimization, formal logic, artificial neural networks, and methods based on statistics, operations research, and economics. AI also draws upon psychology, linguistics, philosophy, neuroscience, and other fields. Some companies, such as OpenAI, Google DeepMind and Meta, aim to create artificial general intelligence (AGI)—AI that can complete virtually any cognitive task at least as well as a human.\\nArtificial intelligence was founded as an academic discipline in 1956, and the field went through multiple cycles of optimism throughout its history, followed by periods of disappointment and loss of funding, known as AI winters. Funding and interest vastly increased after 2012 when graphics processing units started being used to accelerate neural networks and deep learning outperformed previous AI techniques. This growth accelerated further after 2017 with the transformer architecture. In the 2020s, an ongoing period of rapid progress in advanced generative AI became known as the AI boom. Generative AI\\'s ability to create and modify content has led to several unintended consequences and harms, which has raised ethical concerns about AI\\'s long-term effects and potential existential risks, prompting discussions about regulatory policies to ensure the safety and benefits of the technology.\\n\\n'"
            ],
            "application/vnd.google.colaboratory.intrinsic+json": {
              "type": "string"
            }
          },
          "metadata": {},
          "execution_count": 20
        }
      ]
    },
    {
      "cell_type": "code",
      "source": [
        "state={'context':[],'questions':[],'researcher':researchers['re_list'][0]}\n",
        "question=make_question(state)"
      ],
      "metadata": {
        "id": "FY95AM-UTclB"
      },
      "execution_count": null,
      "outputs": []
    },
    {
      "cell_type": "code",
      "source": [
        "question"
      ],
      "metadata": {
        "colab": {
          "base_uri": "https://localhost:8080/"
        },
        "id": "PBWGHVALUL2w",
        "outputId": "aaa1cbbe-3693-4197-db5b-c899c12986ce"
      },
      "execution_count": null,
      "outputs": [
        {
          "output_type": "execute_result",
          "data": {
            "text/plain": [
              "{'question': [\"As a fellow researcher in machine learning, I'm particularly intrigued by the evolution of scalable AI architectures. Could you elaborate on how recent advancements in federated learning are mitigating privacy concerns while enhancing model performance on heterogeneous datasets, and what unexpected trade-offs have you observed in real-world deployments?\"]}"
            ]
          },
          "metadata": {},
          "execution_count": 36
        }
      ]
    },
    {
      "cell_type": "markdown",
      "source": [
        "# Let's Create Our Search Functions"
      ],
      "metadata": {
        "id": "zvWQnTavVjdS"
      }
    },
    {
      "cell_type": "code",
      "source": [
        "class SearchQuery(BaseModel):\n",
        "  search:str=Field(description='The search query')"
      ],
      "metadata": {
        "id": "KLLg4uWSUv8l"
      },
      "execution_count": 32,
      "outputs": []
    },
    {
      "cell_type": "code",
      "source": [
        "def web_search(state:QuestionState):\n",
        "  prompt=ChatPromptTemplate.from_messages([\n",
        "      ('system',\"\"\"Given a conversation between a researcher and an expert on the {topic} your job is generate a query in order use it in a web-search related to that convertation.\n",
        "      1. Pay attention to the questions posed by the researcher.\n",
        "      2. Analyze the conversation carefully.\n",
        "      3. Convert researcher's final question into a web search query.\n",
        "      4. Output only the search query.\n",
        "      Here is the conversation for you to see: {conversation}\"\"\")])\n",
        "\n",
        "  search_llm_1=llm.with_structured_output(SearchQuery)\n",
        "\n",
        "  query=search_llm_1.invoke(prompt.format_prompt(topic=state['topic_description'],conversation=state['questions_answer']).to_messages())\n",
        "  search_output_1=serper_search.run(query.search)\n",
        "\n",
        "  return {'context':[search_output_1]}\n",
        "\n",
        "\n",
        "def wiki_search(state: QuestionState):\n",
        "  prompt=ChatPromptTemplate.from_messages([\n",
        "      ('system',\"\"\"Given a conversation between a researcher and an expert on the {topic} your job is generate a query in order use it in a wikipedia search related to that convertation.\n",
        "      1. Pay attention to the questions posed by the researcher.\n",
        "      2. Analyze the conversation carefully.\n",
        "      3. Convert researcher's final question into a wikipedia search query.\n",
        "      4. Output only the search query.\n",
        "      Here is the conversation for you to see: {conversation}\"\"\")])\n",
        "  search_llm_2=llm.with_structured_output(SearchQuery)\n",
        "\n",
        "  query=search_llm_2.invoke(prompt.format_prompt(topic=state['topic_description'],conversation=state['questions_answer']).to_messages())\n",
        "  docs=WikipediaLoader(query.search,load_max_docs=2).load()\n",
        "  search_output_2=docs[0].metadata['summary']\n",
        "\n",
        "  return {'context':[search_output_2]}"
      ],
      "metadata": {
        "id": "LJN_OhhmVPLE"
      },
      "execution_count": 39,
      "outputs": []
    },
    {
      "cell_type": "code",
      "source": [
        "# let's test it:\n",
        "question_exaple='question:What specific technical or conceptual advancements in neural network architectures or reinforcement learning frameworks do you believe will be pivotal in addressing the growing complexity and variability of healthcare data over the next decade?\\n'\n",
        "state={'context':[],'questions_answer':[question_exaple],'researcher':researchers['re_list'][0],'topic_description':'The Future of ai'}\n",
        "wiki_search(state)"
      ],
      "metadata": {
        "colab": {
          "base_uri": "https://localhost:8080/"
        },
        "id": "fy0rGi5NXTiI",
        "outputId": "86653dca-b38f-4431-df6c-88cefea37364"
      },
      "execution_count": 40,
      "outputs": [
        {
          "output_type": "execute_result",
          "data": {
            "text/plain": [
              "{'context': ['Machine learning (ML) is a field of study in artificial intelligence concerned with the development and study of statistical algorithms that can learn from data and generalise to unseen data, and thus perform tasks without explicit instructions. Within a subdiscipline in machine learning, advances in the field of deep learning have allowed neural networks, a class of statistical algorithms, to surpass many previous machine learning approaches in performance.\\nML finds application in many fields, including natural language processing, computer vision, speech recognition, email filtering, agriculture, and medicine. The application of ML to business problems is known as predictive analytics.\\nStatistics and mathematical optimisation (mathematical programming) methods comprise the foundations of machine learning. Data mining is a related field of study, focusing on exploratory data analysis (EDA) via unsupervised learning.\\nFrom a theoretical viewpoint, probably approximately correct learning provides a mathematical and statistical framework for describing machine learning. Most traditional machine learning and deep learning algorithms can be described as empirical risk minimization under this framework.\\n\\n']}"
            ]
          },
          "metadata": {},
          "execution_count": 40
        }
      ]
    },
    {
      "cell_type": "code",
      "source": [
        "web_search(state)"
      ],
      "metadata": {
        "id": "c1d4sM_tehPo",
        "outputId": "5d2024b2-979c-4db1-c96d-eeb4042296e2",
        "colab": {
          "base_uri": "https://localhost:8080/"
        }
      },
      "execution_count": 41,
      "outputs": [
        {
          "output_type": "execute_result",
          "data": {
            "text/plain": [
              "{'context': [\"by Q Wu · 2025 · Cited by 11 — This review paper first provides a tutorial on the overall framework of RL, including its key components, training models, and approximators. This survey explore RL's rise in healthcare as more than a set of tools, rather a shift toward agentive intelligence in clinical environments. We first ... by TC Frommeyer · 2025 · Cited by 3 — This review aims to evaluate the recent advancements in RL in precision medicine and dynamic treatment regimes, highlight clinical fields of application, and ... The integration of Machine Learning and Deep Learning with IoT-enabled devices for real-time health monitoring has significantly revolutionized healthcare. by MS Uddin · 2025 · Cited by 1 — Reinforcement learning for healthcare operations management: methodological framework, recent developments, and future research directions. by C Chakraborty · 2024 · Cited by 200 — The article highlighted the significant applications of Machine Learning to Deep Learning in medicine and the challenges of applying Al-based technologies ... Abstract: Reinforcement Learning (RL) has become a groundbreaking approach in machine learning, significantly impacting healthcare by providing solutions to ... This survey provides an extensive overview of RL applications in a variety of healthcare domains, ranging from dynamic treatment regimes in chronic diseases ... by P Rattan · 2022 · Cited by 47 — In this review, we provide a guide to the fundamentals of machine learning, a concentrated area of study within artificial intelligence that has been built on ... by MNA Al-Hamadani · 2024 · Cited by 66 — The study offers a comprehensive review of RL and its algorithms used in healthcare applications. It highlights healthcare applications grouped into seven ...\"]}"
            ]
          },
          "metadata": {},
          "execution_count": 41
        }
      ]
    },
    {
      "cell_type": "markdown",
      "source": [
        "# Now It's Time For Our Expert"
      ],
      "metadata": {
        "id": "KUNvm9GEZFsQ"
      }
    },
    {
      "cell_type": "code",
      "source": [
        "def expert(state:QuestionState):\n",
        "  prompt=ChatPromptTemplate.from_messages([\n",
        "      ('system',\"\"\"\n",
        "# MISSION\n",
        "You are a senior expert in {topic}. Your role is to answer a researcher's question with precision, using **only** the provided context.\n",
        "\n",
        "# RESEARCHER PROFILE\n",
        "{researcher_info}\n",
        "\n",
        "# SOURCE CONTEXT\n",
        "{context}\n",
        "\n",
        "# INSTRUCTIONS\n",
        "1.  **Source Fidelity:** Your answer must be derived solely from the provided context. This is non-negotiable. If the answer isn't in the context, you must state that it is not covered.\n",
        "2.  **Tailor the Explanation:** Consider the researcher's background. If they are a specialist, use appropriate technical language. If they are a cross-disciplinary researcher, adjust the explanation to be accessible without losing scientific rigor.\n",
        "3.  **Response Structure:**\n",
        "    *   **Direct Answer:** Begin with a concise, direct answer to the question.\n",
        "    *   **Detailed Explanation:** Elaborate on the answer, citing specific details, data, or mechanisms from the context.\n",
        "    *   **Contextual Link:** Where relevant, connect the answer to the broader field or the researcher's specific interests as hinted in their profile.\n",
        "4.  **Maintain Scientific Integrity:** Present facts objectively. Differentiate between established findings (as per the context) and hypotheticals or suggested future directions (if mentioned in the context).\"\"\"),\n",
        "      ('user',\"{question}\")])\n",
        "\n",
        "  answer=llm.invoke(prompt.format_prompt(researcher_info=state['researcher'].description,\n",
        "                                         context=state['context'],\n",
        "                                         question=state['questions'][0]).to_messages())\n",
        "\n",
        "  return {'questions_answers':[f'answer:{answer.content}']}"
      ],
      "metadata": {
        "id": "MMc93RtTWGtD"
      },
      "execution_count": null,
      "outputs": []
    },
    {
      "cell_type": "code",
      "source": [
        "def writer(state: QuestionState):\n",
        "  prompt = ChatPromptTemplate.from_messages([\n",
        "    (\n",
        "        \"system\",\n",
        "        \"\"\"You are a professional technical writer. Your task is to create a clear, well-structured report based on the provided documents.\n",
        "\n",
        "Documents to analyze:\\n\n",
        "{documents}\n",
        "\\n\n",
        "Follow these rules when writing the report:\n",
        "\n",
        "1. Format the report using **Markdown**:\n",
        "   - Use `##` for section titles.\n",
        "   - Use `###` for sub-section headers.\n",
        "\n",
        "2. The report must include the following sections:\n",
        "   - ## Title\n",
        "   - ### Summary\n",
        "   - ### Sources\n",
        "\n",
        "3. The report should be **concise, objective, and professional**, with a maximum length of **500 words**.\n",
        "\n",
        "4. Ensure the summary accurately reflects the main insights from the documents.\"\"\"\n",
        "    ),\n",
        "    (\n",
        "        \"user\",\n",
        "        \"Write a report based on the provided documents.\")])\n",
        "\n",
        "  answer=llm.invoke(prompt.format_prompt(documents=state['context']).to_messages())\n",
        "\n",
        "  return {'report':answer.content}\n"
      ],
      "metadata": {
        "id": "PJWuqXheIOzr"
      },
      "execution_count": null,
      "outputs": []
    },
    {
      "cell_type": "code",
      "source": [
        "def my_condition_edge(state: QuestionState):\n",
        "  if state['question_answer'][-1]=='Thank you for your time, that helped me a lot.':\n",
        "    return 'writer'\n",
        "  else:\n",
        "    return 'make_question'"
      ],
      "metadata": {
        "id": "bEBNsuiglx68"
      },
      "execution_count": null,
      "outputs": []
    },
    {
      "cell_type": "code",
      "source": [
        "builder=StateGraph(QuestionState)\n",
        "builder.add_node('make_question',make_question)\n",
        "builder.add_node('web_search',web_search)\n",
        "builder.add_node('wiki_search',wiki_search)\n",
        "builder.add_node('expert',expert)\n",
        "builder.add_node('writer',writer)\n",
        "\n",
        "builder.add_edge(START,'make_question')\n",
        "builder.add_edge('make_question','web_search')\n",
        "builder.add_edge('make_question','wiki_search')\n",
        "builder.add_edge('web_search','expert')\n",
        "builder.add_edge('wiki_search','expert')\n",
        "builder.add_conditional_edges('expert',my_condition_edge,['writer','make_question'])\n",
        "builder.add_edge('writer',END)\n",
        "\n",
        "memory=MemorySaver()\n",
        "graph=builder.compile(checkpointer=memory)"
      ],
      "metadata": {
        "id": "ha8iYcEolYKe"
      },
      "execution_count": null,
      "outputs": []
    },
    {
      "cell_type": "code",
      "source": [
        "display(Image(graph.get_graph().draw_mermaid_png()))"
      ],
      "metadata": {
        "colab": {
          "base_uri": "https://localhost:8080/",
          "height": 548
        },
        "id": "ExM9bnR0qYM3",
        "outputId": "ac877118-5b40-431a-ec91-8641bbebc536"
      },
      "execution_count": null,
      "outputs": [
        {
          "output_type": "display_data",
          "data": {
            "image/png": "[encoded data removed]",
            "text/plain": [
              "<IPython.core.display.Image object>"
            ]
          },
          "metadata": {}
        }
      ]
    },
    {
      "cell_type": "code",
      "source": [
        "researchers['re_list'][0]"
      ],
      "metadata": {
        "colab": {
          "base_uri": "https://localhost:8080/"
        },
        "id": "c805UnOgsgdQ",
        "outputId": "9654d467-d833-4be7-a316-d76d23b675c1"
      },
      "execution_count": null,
      "outputs": [
        {
          "output_type": "execute_result",
          "data": {
            "text/plain": [
              "Researchers(name='Dr. Emily Zhang', role='AI Researcher', research_interests='Machine Learning', CV='Harvard University | Developing deep learning models for healthcare diagnostics and drug discovery')"
            ]
          },
          "metadata": {},
          "execution_count": 68
        }
      ]
    },
    {
      "cell_type": "code",
      "source": [
        "thread = {\"configurable\": {\"thread_id\": \"1\"}}\n",
        "state={'context':[],'questions':[],'researcher':researchers['re_list'][0]}\n",
        "example=graph.invoke(state,thread)\n"
      ],
      "metadata": {
        "colab": {
          "base_uri": "https://localhost:8080/",
          "height": 321
        },
        "id": "DDw78FlRsilj",
        "outputId": "4a2af777-acc7-4a40-e4f6-ce7c9bd31c90"
      },
      "execution_count": null,
      "outputs": [
        {
          "output_type": "error",
          "ename": "TypeError",
          "evalue": "can only concatenate list (not \"str\") to list",
          "traceback": [
            "\u001b[0;31m---------------------------------------------------------------------------\u001b[0m",
            "\u001b[0;31mTypeError\u001b[0m                                 Traceback (most recent call last)",
            "\u001b[0;32m/tmp/ipython-input-3348923670.py\u001b[0m in \u001b[0;36m<cell line: 0>\u001b[0;34m()\u001b[0m\n\u001b[1;32m      1\u001b[0m \u001b[0mthread\u001b[0m \u001b[0;34m=\u001b[0m \u001b[0;34m{\u001b[0m\u001b[0;34m\"configurable\"\u001b[0m\u001b[0;34m:\u001b[0m \u001b[0;34m{\u001b[0m\u001b[0;34m\"thread_id\"\u001b[0m\u001b[0;34m:\u001b[0m \u001b[0;34m\"1\"\u001b[0m\u001b[0;34m}\u001b[0m\u001b[0;34m}\u001b[0m\u001b[0;34m\u001b[0m\u001b[0;34m\u001b[0m\u001b[0m\n\u001b[1;32m      2\u001b[0m \u001b[0mstate\u001b[0m\u001b[0;34m=\u001b[0m\u001b[0;34m{\u001b[0m\u001b[0;34m'context'\u001b[0m\u001b[0;34m:\u001b[0m\u001b[0;34m[\u001b[0m\u001b[0;34m]\u001b[0m\u001b[0;34m,\u001b[0m\u001b[0;34m'questions'\u001b[0m\u001b[0;34m:\u001b[0m\u001b[0;34m[\u001b[0m\u001b[0;34m]\u001b[0m\u001b[0;34m,\u001b[0m\u001b[0;34m'researcher'\u001b[0m\u001b[0;34m:\u001b[0m\u001b[0mresearchers\u001b[0m\u001b[0;34m[\u001b[0m\u001b[0;34m're_list'\u001b[0m\u001b[0;34m]\u001b[0m\u001b[0;34m[\u001b[0m\u001b[0;36m0\u001b[0m\u001b[0;34m]\u001b[0m\u001b[0;34m}\u001b[0m\u001b[0;34m\u001b[0m\u001b[0;34m\u001b[0m\u001b[0m\n\u001b[0;32m----> 3\u001b[0;31m \u001b[0mexample\u001b[0m\u001b[0;34m=\u001b[0m\u001b[0mgraph\u001b[0m\u001b[0;34m.\u001b[0m\u001b[0minvoke\u001b[0m\u001b[0;34m(\u001b[0m\u001b[0mstate\u001b[0m\u001b[0;34m,\u001b[0m\u001b[0mthread\u001b[0m\u001b[0;34m)\u001b[0m\u001b[0;34m\u001b[0m\u001b[0;34m\u001b[0m\u001b[0m\n\u001b[0m",
            "\u001b[0;32m/usr/local/lib/python3.12/dist-packages/langgraph/pregel/main.py\u001b[0m in \u001b[0;36minvoke\u001b[0;34m(self, input, config, context, stream_mode, print_mode, output_keys, interrupt_before, interrupt_after, durability, **kwargs)\u001b[0m\n\u001b[1;32m   3066\u001b[0m         \u001b[0minterrupts\u001b[0m\u001b[0;34m:\u001b[0m \u001b[0mlist\u001b[0m\u001b[0;34m[\u001b[0m\u001b[0mInterrupt\u001b[0m\u001b[0;34m]\u001b[0m \u001b[0;34m=\u001b[0m \u001b[0;34m[\u001b[0m\u001b[0;34m]\u001b[0m\u001b[0;34m\u001b[0m\u001b[0;34m\u001b[0m\u001b[0m\n\u001b[1;32m   3067\u001b[0m \u001b[0;34m\u001b[0m\u001b[0m\n\u001b[0;32m-> 3068\u001b[0;31m         for chunk in self.stream(\n\u001b[0m\u001b[1;32m   3069\u001b[0m             \u001b[0minput\u001b[0m\u001b[0;34m,\u001b[0m\u001b[0;34m\u001b[0m\u001b[0;34m\u001b[0m\u001b[0m\n\u001b[1;32m   3070\u001b[0m             \u001b[0mconfig\u001b[0m\u001b[0;34m,\u001b[0m\u001b[0;34m\u001b[0m\u001b[0;34m\u001b[0m\u001b[0m\n",
            "\u001b[0;32m/usr/local/lib/python3.12/dist-packages/langgraph/pregel/main.py\u001b[0m in \u001b[0;36mstream\u001b[0;34m(self, input, config, context, stream_mode, print_mode, output_keys, interrupt_before, interrupt_after, durability, subgraphs, debug, **kwargs)\u001b[0m\n\u001b[1;32m   2665\u001b[0m                             \u001b[0mstream_mode\u001b[0m\u001b[0;34m,\u001b[0m \u001b[0mprint_mode\u001b[0m\u001b[0;34m,\u001b[0m \u001b[0msubgraphs\u001b[0m\u001b[0;34m,\u001b[0m \u001b[0mstream\u001b[0m\u001b[0;34m.\u001b[0m\u001b[0mget\u001b[0m\u001b[0;34m,\u001b[0m \u001b[0mqueue\u001b[0m\u001b[0;34m.\u001b[0m\u001b[0mEmpty\u001b[0m\u001b[0;34m\u001b[0m\u001b[0;34m\u001b[0m\u001b[0m\n\u001b[1;32m   2666\u001b[0m                         )\n\u001b[0;32m-> 2667\u001b[0;31m                     \u001b[0mloop\u001b[0m\u001b[0;34m.\u001b[0m\u001b[0mafter_tick\u001b[0m\u001b[0;34m(\u001b[0m\u001b[0;34m)\u001b[0m\u001b[0;34m\u001b[0m\u001b[0;34m\u001b[0m\u001b[0m\n\u001b[0m\u001b[1;32m   2668\u001b[0m                     \u001b[0;31m# wait for checkpoint\u001b[0m\u001b[0;34m\u001b[0m\u001b[0;34m\u001b[0m\u001b[0m\n\u001b[1;32m   2669\u001b[0m                     \u001b[0;32mif\u001b[0m \u001b[0mdurability_\u001b[0m \u001b[0;34m==\u001b[0m \u001b[0;34m\"sync\"\u001b[0m\u001b[0;34m:\u001b[0m\u001b[0;34m\u001b[0m\u001b[0;34m\u001b[0m\u001b[0m\n",
            "\u001b[0;32m/usr/local/lib/python3.12/dist-packages/langgraph/pregel/_loop.py\u001b[0m in \u001b[0;36mafter_tick\u001b[0;34m(self)\u001b[0m\n\u001b[1;32m    525\u001b[0m         \u001b[0mwrites\u001b[0m \u001b[0;34m=\u001b[0m \u001b[0;34m[\u001b[0m\u001b[0mw\u001b[0m \u001b[0;32mfor\u001b[0m \u001b[0mt\u001b[0m \u001b[0;32min\u001b[0m \u001b[0mself\u001b[0m\u001b[0;34m.\u001b[0m\u001b[0mtasks\u001b[0m\u001b[0;34m.\u001b[0m\u001b[0mvalues\u001b[0m\u001b[0;34m(\u001b[0m\u001b[0;34m)\u001b[0m \u001b[0;32mfor\u001b[0m \u001b[0mw\u001b[0m \u001b[0;32min\u001b[0m \u001b[0mt\u001b[0m\u001b[0;34m.\u001b[0m\u001b[0mwrites\u001b[0m\u001b[0;34m]\u001b[0m\u001b[0;34m\u001b[0m\u001b[0;34m\u001b[0m\u001b[0m\n\u001b[1;32m    526\u001b[0m         \u001b[0;31m# all tasks have finished\u001b[0m\u001b[0;34m\u001b[0m\u001b[0;34m\u001b[0m\u001b[0m\n\u001b[0;32m--> 527\u001b[0;31m         self.updated_channels = apply_writes(\n\u001b[0m\u001b[1;32m    528\u001b[0m             \u001b[0mself\u001b[0m\u001b[0;34m.\u001b[0m\u001b[0mcheckpoint\u001b[0m\u001b[0;34m,\u001b[0m\u001b[0;34m\u001b[0m\u001b[0;34m\u001b[0m\u001b[0m\n\u001b[1;32m    529\u001b[0m             \u001b[0mself\u001b[0m\u001b[0;34m.\u001b[0m\u001b[0mchannels\u001b[0m\u001b[0;34m,\u001b[0m\u001b[0;34m\u001b[0m\u001b[0;34m\u001b[0m\u001b[0m\n",
            "\u001b[0;32m/usr/local/lib/python3.12/dist-packages/langgraph/pregel/_algo.py\u001b[0m in \u001b[0;36mapply_writes\u001b[0;34m(checkpoint, channels, tasks, get_next_version, trigger_to_nodes)\u001b[0m\n\u001b[1;32m    293\u001b[0m     \u001b[0;32mfor\u001b[0m \u001b[0mchan\u001b[0m\u001b[0;34m,\u001b[0m \u001b[0mvals\u001b[0m \u001b[0;32min\u001b[0m \u001b[0mpending_writes_by_channel\u001b[0m\u001b[0;34m.\u001b[0m\u001b[0mitems\u001b[0m\u001b[0;34m(\u001b[0m\u001b[0;34m)\u001b[0m\u001b[0;34m:\u001b[0m\u001b[0;34m\u001b[0m\u001b[0;34m\u001b[0m\u001b[0m\n\u001b[1;32m    294\u001b[0m         \u001b[0;32mif\u001b[0m \u001b[0mchan\u001b[0m \u001b[0;32min\u001b[0m \u001b[0mchannels\u001b[0m\u001b[0;34m:\u001b[0m\u001b[0;34m\u001b[0m\u001b[0;34m\u001b[0m\u001b[0m\n\u001b[0;32m--> 295\u001b[0;31m             \u001b[0;32mif\u001b[0m \u001b[0mchannels\u001b[0m\u001b[0;34m[\u001b[0m\u001b[0mchan\u001b[0m\u001b[0;34m]\u001b[0m\u001b[0;34m.\u001b[0m\u001b[0mupdate\u001b[0m\u001b[0;34m(\u001b[0m\u001b[0mvals\u001b[0m\u001b[0;34m)\u001b[0m \u001b[0;32mand\u001b[0m \u001b[0mnext_version\u001b[0m \u001b[0;32mis\u001b[0m \u001b[0;32mnot\u001b[0m \u001b[0;32mNone\u001b[0m\u001b[0;34m:\u001b[0m\u001b[0;34m\u001b[0m\u001b[0;34m\u001b[0m\u001b[0m\n\u001b[0m\u001b[1;32m    296\u001b[0m                 \u001b[0mcheckpoint\u001b[0m\u001b[0;34m[\u001b[0m\u001b[0;34m\"channel_versions\"\u001b[0m\u001b[0;34m]\u001b[0m\u001b[0;34m[\u001b[0m\u001b[0mchan\u001b[0m\u001b[0;34m]\u001b[0m \u001b[0;34m=\u001b[0m \u001b[0mnext_version\u001b[0m\u001b[0;34m\u001b[0m\u001b[0;34m\u001b[0m\u001b[0m\n\u001b[1;32m    297\u001b[0m                 \u001b[0;31m# unavailable channels can't trigger tasks, so don't add them\u001b[0m\u001b[0;34m\u001b[0m\u001b[0;34m\u001b[0m\u001b[0m\n",
            "\u001b[0;32m/usr/local/lib/python3.12/dist-packages/langgraph/channels/binop.py\u001b[0m in \u001b[0;36mupdate\u001b[0;34m(self, values)\u001b[0m\n\u001b[1;32m     91\u001b[0m             \u001b[0mvalues\u001b[0m \u001b[0;34m=\u001b[0m \u001b[0mvalues\u001b[0m\u001b[0;34m[\u001b[0m\u001b[0;36m1\u001b[0m\u001b[0;34m:\u001b[0m\u001b[0;34m]\u001b[0m\u001b[0;34m\u001b[0m\u001b[0;34m\u001b[0m\u001b[0m\n\u001b[1;32m     92\u001b[0m         \u001b[0;32mfor\u001b[0m \u001b[0mvalue\u001b[0m \u001b[0;32min\u001b[0m \u001b[0mvalues\u001b[0m\u001b[0;34m:\u001b[0m\u001b[0;34m\u001b[0m\u001b[0;34m\u001b[0m\u001b[0m\n\u001b[0;32m---> 93\u001b[0;31m             \u001b[0mself\u001b[0m\u001b[0;34m.\u001b[0m\u001b[0mvalue\u001b[0m \u001b[0;34m=\u001b[0m \u001b[0mself\u001b[0m\u001b[0;34m.\u001b[0m\u001b[0moperator\u001b[0m\u001b[0;34m(\u001b[0m\u001b[0mself\u001b[0m\u001b[0;34m.\u001b[0m\u001b[0mvalue\u001b[0m\u001b[0;34m,\u001b[0m \u001b[0mvalue\u001b[0m\u001b[0;34m)\u001b[0m\u001b[0;34m\u001b[0m\u001b[0;34m\u001b[0m\u001b[0m\n\u001b[0m\u001b[1;32m     94\u001b[0m         \u001b[0;32mreturn\u001b[0m \u001b[0;32mTrue\u001b[0m\u001b[0;34m\u001b[0m\u001b[0;34m\u001b[0m\u001b[0m\n\u001b[1;32m     95\u001b[0m \u001b[0;34m\u001b[0m\u001b[0m\n",
            "\u001b[0;31mTypeError\u001b[0m: can only concatenate list (not \"str\") to list"
          ]
        }
      ]
    },
    {
      "cell_type": "code",
      "source": [],
      "metadata": {
        "id": "i17_Z9Het138"
      },
      "execution_count": null,
      "outputs": []
    }
  ]
}